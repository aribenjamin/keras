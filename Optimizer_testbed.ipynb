{
 "cells": [
  {
   "cell_type": "markdown",
   "metadata": {},
   "source": [
    "# Optimizer Testbed\n",
    "\n",
    "#### This notebook tests optimization algorithms\n",
    "\n",
    "Tasks\n",
    "0. MNIST classification (CNN)\n",
    "0. CIFAR-10 classification (CNN)\n",
    "0. MNIST GAN?"
   ]
  },
  {
   "cell_type": "code",
   "execution_count": 1,
   "metadata": {
    "collapsed": false
   },
   "outputs": [
    {
     "name": "stderr",
     "output_type": "stream",
     "text": [
      "Using Theano backend.\n",
      "WARNING (theano.sandbox.cuda): The cuda backend is deprecated and will be removed in the next release (v0.10).  Please switch to the gpuarray backend. You can get more information about how to switch at this URL:\n",
      " https://github.com/Theano/Theano/wiki/Converting-to-the-new-gpu-back-end%28gpuarray%29\n",
      "\n",
      "Using gpu device 2: GeForce GTX TITAN X (CNMeM is enabled with initial size: 50.0% of memory, cuDNN 5103)\n"
     ]
    }
   ],
   "source": [
    "from __future__ import print_function\n",
    "import keras\n",
    "from keras.datasets import mnist\n",
    "from keras.models import Sequential\n",
    "from keras.layers import Dense, Dropout, Flatten\n",
    "from keras.layers import Conv2D, MaxPooling2D\n",
    "from keras import backend as K\n",
    "\n",
    "import numpy as np\n",
    "import pandas as pd\n",
    "\n",
    "import matplotlib.pyplot as plt\n",
    "import matplotlib.gridspec as gridspec\n",
    "%matplotlib inline\n",
    "\n",
    "#for plots\n",
    "def simpleaxis(ax):\n",
    "    ax.spines['top'].set_visible(False)\n",
    "    ax.spines['right'].set_visible(False)\n",
    "    ax.get_xaxis().tick_bottom()\n",
    "    ax.get_yaxis().tick_left()\n",
    "    ax.xaxis.set_tick_params(size=6)\n",
    "    ax.yaxis.set_tick_params(size=6)\n",
    "colors=['#F5A21E', '#02A68E', '#EF3E34', '#134B64', '#FF07CD']\n"
   ]
  },
  {
   "cell_type": "markdown",
   "metadata": {},
   "source": [
    "## MNIST classification\n",
    "\n",
    "Load data"
   ]
  },
  {
   "cell_type": "code",
   "execution_count": 2,
   "metadata": {
    "collapsed": false
   },
   "outputs": [
    {
     "name": "stdout",
     "output_type": "stream",
     "text": [
      "x_train shape: (60000, 28, 28, 1)\n",
      "60000 train samples\n",
      "10000 test samples\n"
     ]
    }
   ],
   "source": [
    "num_classes = 10\n",
    "\n",
    "# input image dimensions\n",
    "img_rows, img_cols = 28, 28\n",
    "\n",
    "# the data, shuffled and split between train and test sets\n",
    "(x_train, y_train), (x_test, y_test) = mnist.load_data()\n",
    "\n",
    "if K.image_data_format() == 'channels_first':\n",
    "    x_train = x_train.reshape(x_train.shape[0], 1, img_rows, img_cols)\n",
    "    x_test = x_test.reshape(x_test.shape[0], 1, img_rows, img_cols)\n",
    "    input_shape = (1, img_rows, img_cols)\n",
    "else:\n",
    "    x_train = x_train.reshape(x_train.shape[0], img_rows, img_cols, 1)\n",
    "    x_test = x_test.reshape(x_test.shape[0], img_rows, img_cols, 1)\n",
    "    input_shape = (img_rows, img_cols, 1)\n",
    "\n",
    "x_train = x_train.astype('float32')\n",
    "x_test = x_test.astype('float32')\n",
    "x_train /= 255\n",
    "x_test /= 255\n",
    "print('x_train shape:', x_train.shape)\n",
    "print(x_train.shape[0], 'train samples')\n",
    "print(x_test.shape[0], 'test samples')\n",
    "\n",
    "# convert class vectors to binary class matrices\n",
    "y_train = keras.utils.to_categorical(y_train, num_classes)\n",
    "y_test = keras.utils.to_categorical(y_test, num_classes)"
   ]
  },
  {
   "cell_type": "markdown",
   "metadata": {},
   "source": [
    "Build model:"
   ]
  },
  {
   "cell_type": "code",
   "execution_count": 3,
   "metadata": {
    "collapsed": false
   },
   "outputs": [],
   "source": [
    "def build_model(opt=keras.optimizers.Adadelta()):\n",
    "    model = Sequential()\n",
    "    model.add(Conv2D(32, kernel_size=(3, 3),\n",
    "                     activation='relu',\n",
    "                     input_shape=input_shape))\n",
    "    model.add(Conv2D(64, (3, 3), activation='relu'))\n",
    "    model.add(MaxPooling2D(pool_size=(2, 2)))\n",
    "    model.add(Dropout(0.25))\n",
    "    model.add(Flatten())\n",
    "    model.add(Dense(128, activation='relu'))\n",
    "    model.add(Dropout(0.5))\n",
    "    model.add(Dense(num_classes, activation='softmax'))\n",
    "\n",
    "    model.compile(loss=keras.losses.categorical_crossentropy,\n",
    "                  optimizer=opt,\n",
    "                  metrics=['accuracy'])\n",
    "    return model\n"
   ]
  },
  {
   "cell_type": "markdown",
   "metadata": {
    "collapsed": false
   },
   "source": [
    "Train the model, plotting both train and test loss."
   ]
  },
  {
   "cell_type": "code",
   "execution_count": 4,
   "metadata": {
    "collapsed": false
   },
   "outputs": [],
   "source": [
    "# First define a callback to record train and test loss on each minibatch\n",
    "from keras.callbacks import Callback\n",
    "\n",
    "\n",
    "class minibatch_History(Callback):\n",
    "    \"\"\"Callback that records events into a `History` object.\n",
    "    \n",
    "    Predicts over the validation set and each input batch (w/o dropout) \n",
    "    after each batch.\n",
    "\n",
    "    \"\"\"\n",
    "    def __init__(self, count_mode='samples', Nevery = 1):\n",
    "        super(minibatch_History, self).__init__()\n",
    "        self.Nevery = Nevery\n",
    "            \n",
    "    \n",
    "    def on_train_begin(self, logs=None):\n",
    "        self.batch = []\n",
    "        self.history = {'val_loss':list(),\n",
    "                        'val_acc':list()}\n",
    "        self.batch_no = 0\n",
    "        self.target = self.params['samples']\n",
    "        \n",
    "    def on_batch_end(self, batch, logs=None):\n",
    "        if self.batch_no % self.Nevery == 0 or self.batch_no == self.target:\n",
    "            logs = logs or {}\n",
    "            self.batch.append(batch)\n",
    "            for k, v in logs.items():\n",
    "                self.history.setdefault(k, []).append(v)\n",
    "\n",
    "            # add validation loss. Only test on a random subset of minibatch size\n",
    "            val_loss, val_acc =  self.model.evaluate(self.validation_data[0], \n",
    "                                                     self.validation_data[1], verbose=0)   \n",
    "            self.history['val_loss'].append(val_loss)\n",
    "            self.history['val_acc'].append(val_acc)\n"
   ]
  },
  {
   "cell_type": "code",
   "execution_count": 83,
   "metadata": {
    "collapsed": false
   },
   "outputs": [
    {
     "name": "stdout",
     "output_type": "stream",
     "text": [
      "Train on 10000 samples, validate on 1000 samples\n",
      "Epoch 1/10\n",
      "4s - loss: 0.8767 - acc: 0.7241 - val_loss: 0.5869 - val_acc: 0.7930\n",
      "Epoch 2/10\n",
      "4s - loss: 0.3279 - acc: 0.9025 - val_loss: 0.2569 - val_acc: 0.9180\n",
      "Epoch 3/10\n",
      "4s - loss: 0.2288 - acc: 0.9348 - val_loss: 0.1532 - val_acc: 0.9500\n",
      "Epoch 4/10\n",
      "4s - loss: 0.1796 - acc: 0.9472 - val_loss: 0.1546 - val_acc: 0.9630\n",
      "Epoch 5/10\n",
      "4s - loss: 0.1479 - acc: 0.9556 - val_loss: 0.1008 - val_acc: 0.9670\n",
      "Epoch 6/10\n",
      "4s - loss: 0.1238 - acc: 0.9636 - val_loss: 0.0909 - val_acc: 0.9690\n",
      "Epoch 7/10\n",
      "4s - loss: 0.1052 - acc: 0.9689 - val_loss: 0.1004 - val_acc: 0.9630\n",
      "Epoch 8/10\n",
      "4s - loss: 0.0949 - acc: 0.9726 - val_loss: 0.0867 - val_acc: 0.9690\n",
      "Epoch 9/10\n",
      "4s - loss: 0.0879 - acc: 0.9738 - val_loss: 0.0764 - val_acc: 0.9750\n",
      "Epoch 10/10\n",
      "4s - loss: 0.0782 - acc: 0.9765 - val_loss: 0.0796 - val_acc: 0.9720\n",
      "Test loss: 0.0739270160976\n",
      "Test accuracy: 0.9768\n"
     ]
    }
   ],
   "source": [
    "batch_size = 128\n",
    "epochs = 10\n",
    "nb_train = 10000\n",
    "nb_test = 1000\n",
    "\n",
    "hist = minibatch_History(Nevery = 20)\n",
    "\n",
    "model = build_model()\n",
    "\n",
    "model.fit(x_train[:nb_train], y_train[:nb_train],\n",
    "          batch_size=batch_size,\n",
    "          epochs=epochs,\n",
    "          verbose=2,\n",
    "          \n",
    "          validation_data=(x_test[:nb_test], y_test[:nb_test]),\n",
    "          callbacks=[hist])\n",
    "score = model.evaluate(x_test, y_test, verbose=0)\n",
    "print('Test loss:', score[0])\n",
    "print('Test accuracy:', score[1])"
   ]
  },
  {
   "cell_type": "code",
   "execution_count": 6,
   "metadata": {
    "collapsed": false
   },
   "outputs": [
    {
     "data": {
      "image/png": "[encoded data removed]",
      "text/plain": [
       "<matplotlib.figure.Figure at 0x7fd1660216d0>"
      ]
     },
     "metadata": {},
     "output_type": "display_data"
    }
   ],
   "source": [
    "plt.figure(figsize=(5,5))\n",
    "simpleaxis(plt.gca())\n",
    "\n",
    "batch_no = np.arange(np.array(hist.history['loss']).shape[0])\n",
    "plt.plot(batch_no,hist.history['loss'],color=colors[0])\n",
    "plt.plot(batch_no,hist.history['val_loss'],color=colors[1])\n",
    "plt.legend(['Train','Validation'],loc=0)\n",
    "plt.xlabel('Batch #',fontsize='large')\n",
    "plt.ylabel('Loss',fontsize='large')\n",
    "plt.ylim((0,1));"
   ]
  },
  {
   "cell_type": "markdown",
   "metadata": {},
   "source": [
    "Note that the the training loss is higher because it is calculated from the net in training, which has dropout instantiated. TODO change the callback so this prints the actual loss."
   ]
  },
  {
   "cell_type": "markdown",
   "metadata": {},
   "source": [
    "## Test GraVa"
   ]
  },
  {
   "cell_type": "code",
   "execution_count": 7,
   "metadata": {
    "collapsed": false
   },
   "outputs": [],
   "source": [
    "opt = keras.optimizers.GraVa(lr=0.001, beta_1=0.9, beta_2=0.999, var_care=1, decay=0.0)\n",
    "gr_model = build_model(opt)"
   ]
  },
  {
   "cell_type": "code",
   "execution_count": 8,
   "metadata": {
    "collapsed": false
   },
   "outputs": [
    {
     "name": "stdout",
     "output_type": "stream",
     "text": [
      "Train on 10000 samples, validate on 1000 samples\n",
      "Epoch 1/10\n",
      "4s - loss: 2.3128 - acc: 0.0977 - val_loss: 2.3059 - val_acc: 0.0830\n",
      "Epoch 2/10\n",
      "4s - loss: 2.3050 - acc: 0.1057 - val_loss: 2.2974 - val_acc: 0.1050\n",
      "Epoch 3/10\n",
      "4s - loss: 2.2962 - acc: 0.1207 - val_loss: 2.2867 - val_acc: 0.1430\n",
      "Epoch 4/10\n",
      "4s - loss: 2.2840 - acc: 0.1383 - val_loss: 2.2742 - val_acc: 0.1850\n",
      "Epoch 5/10\n",
      "4s - loss: 2.2709 - acc: 0.1629 - val_loss: 2.2597 - val_acc: 0.2390\n",
      "Epoch 6/10\n",
      "4s - loss: 2.2581 - acc: 0.1868 - val_loss: 2.2433 - val_acc: 0.3030\n",
      "Epoch 7/10\n",
      "4s - loss: 2.2359 - acc: 0.2349 - val_loss: 2.2240 - val_acc: 0.3720\n",
      "Epoch 8/10\n",
      "4s - loss: 2.2181 - acc: 0.2536 - val_loss: 2.2013 - val_acc: 0.4440\n",
      "Epoch 9/10\n",
      "4s - loss: 2.1938 - acc: 0.2830 - val_loss: 2.1740 - val_acc: 0.5030\n",
      "Epoch 10/10\n",
      "4s - loss: 2.1635 - acc: 0.3191 - val_loss: 2.1409 - val_acc: 0.5270\n",
      "Test loss: 2.12359971237\n",
      "Test accuracy: 0.5673\n"
     ]
    }
   ],
   "source": [
    "batch_size = 128\n",
    "epochs = 10\n",
    "nb_train = 10000\n",
    "nb_test = 1000\n",
    "\n",
    "gr_hist = minibatch_History(Nevery = 20)\n",
    "\n",
    "gr_model.fit(x_train[:nb_train], y_train[:nb_train],\n",
    "          batch_size=batch_size,\n",
    "          epochs=epochs,\n",
    "          verbose=2,\n",
    "          \n",
    "          validation_data=(x_test[:nb_test], y_test[:nb_test]),\n",
    "          callbacks=[gr_hist])\n",
    "score = gr_model.evaluate(x_test, y_test, verbose=0)\n",
    "print('Test loss:', score[0])\n",
    "print('Test accuracy:', score[1])"
   ]
  },
  {
   "cell_type": "code",
   "execution_count": 13,
   "metadata": {
    "collapsed": false
   },
   "outputs": [
    {
     "data": {
      "image/png": "[encoded data removed]",
      "text/plain": [
       "<matplotlib.figure.Figure at 0x7fd16283e310>"
      ]
     },
     "metadata": {},
     "output_type": "display_data"
    }
   ],
   "source": [
    "plt.figure(figsize=(5,5))\n",
    "simpleaxis(plt.gca())\n",
    "\n",
    "batch_no = np.arange(np.array(hist.history['loss']).shape[0])\n",
    "plt.plot(batch_no,hist.history['val_loss'],color=colors[0])\n",
    "plt.plot(batch_no,gr_hist.history['val_loss'],color=colors[1])\n",
    "plt.legend(['adadelta','grava'],loc=0)\n",
    "plt.xlabel('Batch #',fontsize='large')\n",
    "plt.ylabel('Loss',fontsize='large')\n",
    "plt.ylim((0,3));"
   ]
  },
  {
   "cell_type": "markdown",
   "metadata": {},
   "source": [
    "#### Now optimize parameters to see if we can improve this horrid performance"
   ]
  },
  {
   "cell_type": "code",
   "execution_count": null,
   "metadata": {
    "collapsed": false,
    "scrolled": true
   },
   "outputs": [
    {
     "name": "stdout",
     "output_type": "stream",
     "text": [
      "[0.3462504540205002, 0.90269999999999995] {'var_care': 0.1442885621915024, 'lr': 0.0011927333376094754}\n",
      "[2.2598769653320314, 0.13830000000000001] {'var_care': 0.23068121166446615, 'lr': 4.020896093839936e-05}\n",
      "[0.1532113124988973, 0.95330000000000004] {'var_care': 9.650850086415739, 'lr': 0.01248236199287573}\n",
      "[2.1972593406677245, 0.47410000000000002] {'var_care': 3.3201139084382962, 'lr': 0.00014221133076272987}\n",
      "[0.37374822305440902, 0.8992] {'var_care': 0.19856336552081763, 'lr': 0.0009069630839093318}\n",
      "[0.086237596963287796, 0.97350000000000003] {'var_care': 0.10779026711367401, 'lr': 0.060475329946131993}\n",
      "[1.3610071455001831, 0.75449999999999995] {'var_care': 2.8738387512294814, 'lr': 0.0003186747855827413}\n",
      "[2.2894640548706056, 0.1424] {'var_care': 1.1858040211762895, 'lr': 1.6164504429082254e-05}\n",
      "[0.083735498620569712, 0.97389999999999999] {'var_care': 6.123883804324175, 'lr': 0.043140418044194724}\n",
      "[0.22925651353895665, 0.93379999999999996] {'var_care': 5.606430222983686, 'lr': 0.0036230292598405747}\n",
      "[0.43139908657073972, 0.88349999999999995] {'var_care': 0.1456547633107664, 'lr': 0.0007319352484902912}\n",
      "[0.068257107427201119, 0.97809999999999997] {'var_care': 0.11819230004512413, 'lr': 0.05161321673036178}\n",
      "[0.076295737396166075, 0.9768] {'var_care': 0.700414923060878, 'lr': 0.08849233578726348}\n",
      "[0.1801813645645976, 0.94850000000000001] {'var_care': 3.33425013199243, 'lr': 0.00785266422391802}\n",
      "[0.93202416477203365, 0.79890000000000005] {'var_care': 2.1447331839410686, 'lr': 0.00040238759810726503}\n",
      "[2.2621804229736329, 0.20880000000000001] {'var_care': 0.1234182947090595, 'lr': 4.772304270992965e-05}\n",
      "[0.15601258226074277, 0.95430000000000004] {'var_care': 0.12161874371437338, 'lr': 0.015462850594209132}\n",
      "[0.47812746698856357, 0.87280000000000002] {'var_care': 0.6284374361157034, 'lr': 0.0005680939424736226}\n",
      "[0.080199387708702122, 0.9728] {'var_care': 0.2542911711355788, 'lr': 0.03562577793215976}\n",
      "[2.2900655166625978, 0.1273] {'var_care': 0.6202072923931693, 'lr': 1.8428882154135287e-05}\n",
      "[0.060484206368087323, 0.98170000000000002] {'var_care': 0.39366513533023584, 'lr': 0.07628618607772139}\n",
      "[0.24860148358643055, 0.92769999999999997] {'var_care': 0.3811080315048629, 'lr': 0.0026154192827680597}\n",
      "[0.070454002165673588, 0.97940000000000005] {'var_care': 0.3550340386695172, 'lr': 0.09774842562139922}\n",
      "[0.10117496685683727, 0.9677] {'var_care': 0.3688698466669915, 'lr': 0.02441435421361345}\n",
      "[0.19207144552618266, 0.94540000000000002] {'var_care': 1.1643923098594116, 'lr': 0.006641574897748453}\n",
      "[0.24928623662292956, 0.92689999999999995] {'var_care': 0.1919181406131876, 'lr': 0.0026420418431272285}\n",
      "[0.090972062465548509, 0.97319999999999995] {'var_care': 1.6525635562830892, 'lr': 0.022436573758278185}\n",
      "[0.085480214461496506, 0.97360000000000002] {'var_care': 0.4623284488059613, 'lr': 0.09486967438858361}\n",
      "[0.30089775037765504, 0.91339999999999999] {'var_care': 0.160175763352581, 'lr': 0.0015156323022021546}\n"
     ]
    }
   ],
   "source": [
    "from hyperopt import fmin, hp, Trials, tpe, STATUS_OK\n",
    "\n",
    "space4rf = {\n",
    "    'lr': hp.loguniform('lr', np.log(1e-5), np.log(1e-1)),\n",
    "    'var_care': hp.loguniform('var_care', np.log(1e-1),np.log(1e1)), \n",
    "}\n",
    "\n",
    "new_trials = Trials()\n",
    "\n",
    "def fnc(params):\n",
    "    lr = params['lr']\n",
    "    var_care = params['var_care']\n",
    "    \n",
    "    \n",
    "    gr_model = Sequential()\n",
    "    gr_model.add(Conv2D(32, kernel_size=(3, 3),\n",
    "                 activation='relu',\n",
    "                 input_shape=input_shape))\n",
    "    gr_model.add(Conv2D(64, (3, 3), activation='relu'))\n",
    "    gr_model.add(MaxPooling2D(pool_size=(2, 2)))\n",
    "    gr_model.add(Dropout(0.25))\n",
    "    gr_model.add(Flatten())\n",
    "    gr_model.add(Dense(128, activation='relu'))\n",
    "    gr_model.add(Dropout(0.5))\n",
    "    gr_model.add(Dense(num_classes, activation='softmax'))\n",
    "\n",
    "\n",
    "    opt = keras.optimizers.GraVa(lr=lr, beta_1=0.99, beta_2=0.99, var_care=var_care, decay=0.0)\n",
    "    gr_model.compile(loss=keras.losses.categorical_crossentropy,\n",
    "                                   optimizer=opt,\n",
    "                                      metrics=['accuracy'])\n",
    "    \n",
    "    gr_model.fit(x_train[:10000], y_train[:10000],\n",
    "          batch_size=32,\n",
    "          epochs=10,\n",
    "          verbose=0,\n",
    "          \n",
    "          validation_data=(x_test[:1000], y_test[:1000]))\n",
    "    score = gr_model.evaluate(x_test, y_test, verbose=0)\n",
    "    print(score, params)\n",
    "    return {'loss':score[0], 'status': STATUS_OK }\n",
    "\n",
    "hyperoptBest = fmin(fnc, space4rf, algo=tpe.suggest, max_evals=50, trials=new_trials)\n",
    "\n",
    "    "
   ]
  },
  {
   "cell_type": "code",
   "execution_count": 59,
   "metadata": {
    "collapsed": false
   },
   "outputs": [],
   "source": [
    "lrs, vcs, losses = zip(*[[trial['misc']['vals']['lr'][0], \\\n",
    "                    trial['misc']['vals']['var_care'][0], \\\n",
    "                    trial['result']['loss']] for trial in new_trials])\n",
    "lrs = np.array(lrs)\n",
    "vcs = np.array(vcs)\n",
    "losses = np.array(losses)"
   ]
  },
  {
   "cell_type": "code",
   "execution_count": 63,
   "metadata": {
    "collapsed": false
   },
   "outputs": [],
   "source": [
    "[(losses[i], lrs[i], vcs[i]) for i in np.argsort(losses)];"
   ]
  },
  {
   "cell_type": "code",
   "execution_count": 57,
   "metadata": {
    "collapsed": false
   },
   "outputs": [
    {
     "data": {
      "image/png": "[encoded data removed]",
      "text/plain": [
       "<matplotlib.figure.Figure at 0x7fc229bc7790>"
      ]
     },
     "metadata": {},
     "output_type": "display_data"
    }
   ],
   "source": [
    "import scipy.interpolate\n",
    "\n",
    "\n",
    "# Set up a regular grid of interpolation points\n",
    "xi, yi = np.linspace(lrs.min(), lrs.max(), 100), np.linspace(vcs.min(), vcs.max(), 100)\n",
    "xi, yi = np.meshgrid(xi, yi)\n",
    "\n",
    "# Interpolate\n",
    "rbf = scipy.interpolate.Rbf(lrs, vcs, losses, function='gaussian')\n",
    "zi = rbf(xi, yi)\n",
    "plt.imshow(zi, vmin=losses.min(), vmax=losses.max(), origin='lower',\n",
    "           extent=[lrs.min(), lrs.max(), vcs.min(), vcs.max()])\n",
    "plt.scatter(lrs, vcs, c=losses,s=15,zorder = 2)\n",
    "\n",
    "ax = plt.gca()\n",
    "ax.set_yscale('log')\n",
    "ax.set_xscale('log')\n",
    "plt.xlabel('LR')\n",
    "plt.ylabel('VC')\n",
    "plt.colorbar()\n",
    "plt.scatter(lrs, vcs, c='w',zorder=1)\n",
    "plt.show()"
   ]
  },
  {
   "cell_type": "markdown",
   "metadata": {},
   "source": [
    "Now plot time course of best params. "
   ]
  },
  {
   "cell_type": "code",
   "execution_count": 77,
   "metadata": {
    "collapsed": false
   },
   "outputs": [
    {
     "name": "stdout",
     "output_type": "stream",
     "text": [
      "Train on 10000 samples, validate on 1000 samples\n",
      "Epoch 1/10\n",
      "11s - loss: 0.6068 - acc: 0.8078 - val_loss: 0.2077 - val_acc: 0.9330\n",
      "Epoch 2/10\n",
      "11s - loss: 0.2566 - acc: 0.9231 - val_loss: 0.1385 - val_acc: 0.9540\n",
      "Epoch 3/10\n",
      "11s - loss: 0.1809 - acc: 0.9435 - val_loss: 0.1000 - val_acc: 0.9660\n",
      "Epoch 4/10\n",
      "11s - loss: 0.1393 - acc: 0.9570 - val_loss: 0.1014 - val_acc: 0.9620\n",
      "Epoch 5/10\n",
      "11s - loss: 0.1299 - acc: 0.9591 - val_loss: 0.0905 - val_acc: 0.9660\n",
      "Epoch 6/10\n",
      "11s - loss: 0.1007 - acc: 0.9698 - val_loss: 0.0843 - val_acc: 0.9700\n",
      "Epoch 7/10\n",
      "11s - loss: 0.0967 - acc: 0.9689 - val_loss: 0.0697 - val_acc: 0.9710\n",
      "Epoch 8/10\n",
      "11s - loss: 0.0730 - acc: 0.9768 - val_loss: 0.0733 - val_acc: 0.9730\n",
      "Epoch 9/10\n",
      "11s - loss: 0.0718 - acc: 0.9769 - val_loss: 0.0688 - val_acc: 0.9760\n",
      "Epoch 10/10\n",
      "11s - loss: 0.0708 - acc: 0.9777 - val_loss: 0.0692 - val_acc: 0.9740\n"
     ]
    },
    {
     "data": {
      "text/plain": [
       "<keras.callbacks.History at 0x7fc20b06d5d0>"
      ]
     },
     "execution_count": 77,
     "metadata": {},
     "output_type": "execute_result"
    }
   ],
   "source": [
    "\n",
    "gr_model = Sequential()\n",
    "gr_model.add(Conv2D(32, kernel_size=(3, 3),\n",
    "                 activation='relu',\n",
    "                 input_shape=input_shape))\n",
    "gr_model.add(Conv2D(64, (3, 3), activation='relu'))\n",
    "gr_model.add(MaxPooling2D(pool_size=(2, 2)))\n",
    "gr_model.add(Dropout(0.25))\n",
    "gr_model.add(Flatten())\n",
    "gr_model.add(Dense(128, activation='relu'))\n",
    "gr_model.add(Dropout(0.5))\n",
    "gr_model.add(Dense(num_classes, activation='softmax'))\n",
    "\n",
    "\n",
    "opt = keras.optimizers.GraVa(lr=0.072485440769771592, beta_1=0.99, beta_2=0.99, \n",
    "                             var_care=0.76771431639785814, decay=0.0)\n",
    "gr_model.compile(loss=keras.losses.categorical_crossentropy,\n",
    "              optimizer=opt,\n",
    "              metrics=['accuracy'])\n",
    "\n",
    "batch_size = 32\n",
    "epochs = 10\n",
    "nb_train = 10000\n",
    "nb_test = 1000\n",
    "\n",
    "gr_hist = minibatch_History(Nevery = 50)\n",
    "\n",
    "gr_model.fit(x_train[:nb_train], y_train[:nb_train],\n",
    "          batch_size=batch_size,\n",
    "          epochs=epochs,\n",
    "          verbose=2,\n",
    "          \n",
    "          validation_data=(x_test[:nb_test], y_test[:nb_test]),\n",
    "          callbacks=[gr_hist])\n",
    "\n"
   ]
  },
  {
   "cell_type": "code",
   "execution_count": 78,
   "metadata": {
    "collapsed": false
   },
   "outputs": [
    {
     "data": {
      "text/plain": [
       "<matplotlib.text.Text at 0x7fc20af5b410>"
      ]
     },
     "execution_count": 78,
     "metadata": {},
     "output_type": "execute_result"
    },
    {
     "data": {
      "image/png": "[encoded data removed]",
      "text/plain": [
       "<matplotlib.figure.Figure at 0x7fc20afacad0>"
      ]
     },
     "metadata": {},
     "output_type": "display_data"
    }
   ],
   "source": [
    "plt.figure(figsize=(10,5))\n",
    "plt.subplot(121)\n",
    "simpleaxis(plt.gca())\n",
    "\n",
    "batch_no = np.arange(np.array(hist.history['loss']).shape[0])*128\n",
    "gr_batch_no = np.arange(np.array(gr_hist.history['loss']).shape[0])*64\n",
    "\n",
    "plt.plot(batch_no,hist.history['val_loss'],color=colors[0])\n",
    "plt.plot(gr_batch_no,gr_hist.history['val_loss'],color=colors[1])\n",
    "plt.legend(['adadelta','grava'],loc=0)\n",
    "plt.xlabel('Sample #',fontsize='large')\n",
    "plt.ylabel('Loss',fontsize='large')\n",
    "plt.title('validation')\n",
    "plt.ylim((0,2));\n",
    "plt.subplot(122)\n",
    "plt.plot(batch_no,hist.history['loss'],color=colors[0])\n",
    "plt.plot(gr_batch_no,gr_hist.history['loss'],color=colors[1])\n",
    "plt.title('train')\n",
    "plt.ylim((0,2));\n",
    "plt.legend(['adadelta','grava'],loc=0)\n",
    "plt.xlabel('Sample #',fontsize='large')\n",
    "plt.ylabel('Loss',fontsize='large')"
   ]
  },
  {
   "cell_type": "markdown",
   "metadata": {},
   "source": [
    "With whole data:"
   ]
  },
  {
   "cell_type": "code",
   "execution_count": 99,
   "metadata": {
    "collapsed": false
   },
   "outputs": [
    {
     "name": "stdout",
     "output_type": "stream",
     "text": [
      "[0.028708139271483968, 0.99170000000000003]\n",
      "Error percent : 0.830000\n"
     ]
    }
   ],
   "source": [
    "gr_model.fit(x_train, y_train,\n",
    "      batch_size=32,\n",
    "      epochs=10,\n",
    "      verbose=0,\n",
    "      validation_data=(x_test, y_test))\n",
    "score = gr_model.evaluate(x_test, y_test, verbose=0)\n",
    "print(score)\n",
    "print('Error percent : %f'% (100.*(1.-score[1])))\n"
   ]
  },
  {
   "cell_type": "markdown",
   "metadata": {},
   "source": [
    "Test other optimizers:"
   ]
  },
  {
   "cell_type": "code",
   "execution_count": null,
   "metadata": {
    "collapsed": true
   },
   "outputs": [],
   "source": [
    "opts = [keras.optimizers.Adam(), keras.optimizers.SGD(momemtum=0.9), keras.optimizers.SGD()]\n",
    "for opt in opts:\n",
    "    mod = build_model(opt)\n",
    "    "
   ]
  },
  {
   "cell_type": "markdown",
   "metadata": {},
   "source": [
    "### Test GDAM"
   ]
  },
  {
   "cell_type": "code",
   "execution_count": 5,
   "metadata": {
    "collapsed": false
   },
   "outputs": [],
   "source": [
    "opt = keras.optimizers.GDAM()\n",
    "gdam = build_model(opt)"
   ]
  },
  {
   "cell_type": "code",
   "execution_count": 6,
   "metadata": {
    "collapsed": false
   },
   "outputs": [
    {
     "ename": "TypeError",
     "evalue": "Join() can only join tensors with the same number of dimensions.",
     "output_type": "error",
     "traceback": [
      "\u001b[0;31m---------------------------------------------------------------------------\u001b[0m",
      "\u001b[0;31mTypeError\u001b[0m                                 Traceback (most recent call last)",
      "\u001b[0;32m<ipython-input-6-de2ae2f9ff8b>\u001b[0m in \u001b[0;36m<module>\u001b[0;34m()\u001b[0m\n\u001b[1;32m     12\u001b[0m \u001b[0;34m\u001b[0m\u001b[0m\n\u001b[1;32m     13\u001b[0m           \u001b[0mvalidation_data\u001b[0m\u001b[0;34m=\u001b[0m\u001b[0;34m(\u001b[0m\u001b[0mx_test\u001b[0m\u001b[0;34m[\u001b[0m\u001b[0;34m:\u001b[0m\u001b[0mnb_test\u001b[0m\u001b[0;34m]\u001b[0m\u001b[0;34m,\u001b[0m \u001b[0my_test\u001b[0m\u001b[0;34m[\u001b[0m\u001b[0;34m:\u001b[0m\u001b[0mnb_test\u001b[0m\u001b[0;34m]\u001b[0m\u001b[0;34m)\u001b[0m\u001b[0;34m,\u001b[0m\u001b[0;34m\u001b[0m\u001b[0m\n\u001b[0;32m---> 14\u001b[0;31m           callbacks=[gdam_hist])\n\u001b[0m",
      "\u001b[0;32m/home/abenjamin/repos/keras/keras/models.pyc\u001b[0m in \u001b[0;36mfit\u001b[0;34m(self, x, y, batch_size, epochs, verbose, callbacks, validation_split, validation_data, shuffle, class_weight, sample_weight, initial_epoch, **kwargs)\u001b[0m\n\u001b[1;32m    851\u001b[0m                               \u001b[0mclass_weight\u001b[0m\u001b[0;34m=\u001b[0m\u001b[0mclass_weight\u001b[0m\u001b[0;34m,\u001b[0m\u001b[0;34m\u001b[0m\u001b[0m\n\u001b[1;32m    852\u001b[0m                               \u001b[0msample_weight\u001b[0m\u001b[0;34m=\u001b[0m\u001b[0msample_weight\u001b[0m\u001b[0;34m,\u001b[0m\u001b[0;34m\u001b[0m\u001b[0m\n\u001b[0;32m--> 853\u001b[0;31m                               initial_epoch=initial_epoch)\n\u001b[0m\u001b[1;32m    854\u001b[0m \u001b[0;34m\u001b[0m\u001b[0m\n\u001b[1;32m    855\u001b[0m     def evaluate(self, x, y, batch_size=32, verbose=1,\n",
      "\u001b[0;32m/home/abenjamin/repos/keras/keras/engine/training.pyc\u001b[0m in \u001b[0;36mfit\u001b[0;34m(self, x, y, batch_size, epochs, verbose, callbacks, validation_split, validation_data, shuffle, class_weight, sample_weight, initial_epoch, **kwargs)\u001b[0m\n\u001b[1;32m   1456\u001b[0m         \u001b[0;32melse\u001b[0m\u001b[0;34m:\u001b[0m\u001b[0;34m\u001b[0m\u001b[0m\n\u001b[1;32m   1457\u001b[0m             \u001b[0mins\u001b[0m \u001b[0;34m=\u001b[0m \u001b[0mx\u001b[0m \u001b[0;34m+\u001b[0m \u001b[0my\u001b[0m \u001b[0;34m+\u001b[0m \u001b[0msample_weights\u001b[0m\u001b[0;34m\u001b[0m\u001b[0m\n\u001b[0;32m-> 1458\u001b[0;31m         \u001b[0mself\u001b[0m\u001b[0;34m.\u001b[0m\u001b[0m_make_train_function\u001b[0m\u001b[0;34m(\u001b[0m\u001b[0;34m)\u001b[0m\u001b[0;34m\u001b[0m\u001b[0m\n\u001b[0m\u001b[1;32m   1459\u001b[0m         \u001b[0mf\u001b[0m \u001b[0;34m=\u001b[0m \u001b[0mself\u001b[0m\u001b[0;34m.\u001b[0m\u001b[0mtrain_function\u001b[0m\u001b[0;34m\u001b[0m\u001b[0m\n\u001b[1;32m   1460\u001b[0m \u001b[0;34m\u001b[0m\u001b[0m\n",
      "\u001b[0;32m/home/abenjamin/repos/keras/keras/engine/training.pyc\u001b[0m in \u001b[0;36m_make_train_function\u001b[0;34m(self)\u001b[0m\n\u001b[1;32m   1000\u001b[0m                 \u001b[0mself\u001b[0m\u001b[0;34m.\u001b[0m\u001b[0m_collected_trainable_weights\u001b[0m\u001b[0;34m,\u001b[0m\u001b[0;34m\u001b[0m\u001b[0m\n\u001b[1;32m   1001\u001b[0m                 \u001b[0mself\u001b[0m\u001b[0;34m.\u001b[0m\u001b[0mconstraints\u001b[0m\u001b[0;34m,\u001b[0m\u001b[0;34m\u001b[0m\u001b[0m\n\u001b[0;32m-> 1002\u001b[0;31m                 self.total_loss)\n\u001b[0m\u001b[1;32m   1003\u001b[0m             \u001b[0mupdates\u001b[0m \u001b[0;34m=\u001b[0m \u001b[0mself\u001b[0m\u001b[0;34m.\u001b[0m\u001b[0mupdates\u001b[0m \u001b[0;34m+\u001b[0m \u001b[0mtraining_updates\u001b[0m\u001b[0;34m\u001b[0m\u001b[0m\n\u001b[1;32m   1004\u001b[0m             \u001b[0;31m# Gets loss and metrics. Updates weights at each call.\u001b[0m\u001b[0;34m\u001b[0m\u001b[0;34m\u001b[0m\u001b[0m\n",
      "\u001b[0;32m/home/abenjamin/repos/keras/keras/optimizers.py\u001b[0m in \u001b[0;36mget_updates\u001b[0;34m(self, params, constraints, loss)\u001b[0m\n\u001b[1;32m    648\u001b[0m         \u001b[0;31m# remember that each param in params can be a tensor\u001b[0m\u001b[0;34m\u001b[0m\u001b[0;34m\u001b[0m\u001b[0m\n\u001b[1;32m    649\u001b[0m \u001b[0;34m\u001b[0m\u001b[0m\n\u001b[0;32m--> 650\u001b[0;31m         \u001b[0mgrads\u001b[0m \u001b[0;34m=\u001b[0m \u001b[0mK\u001b[0m\u001b[0;34m.\u001b[0m\u001b[0mstack\u001b[0m\u001b[0;34m(\u001b[0m\u001b[0mself\u001b[0m\u001b[0;34m.\u001b[0m\u001b[0mget_gradients\u001b[0m\u001b[0;34m(\u001b[0m\u001b[0mloss\u001b[0m\u001b[0;34m,\u001b[0m \u001b[0mparams\u001b[0m\u001b[0;34m)\u001b[0m\u001b[0;34m)\u001b[0m\u001b[0;34m\u001b[0m\u001b[0m\n\u001b[0m\u001b[1;32m    651\u001b[0m         \u001b[0mself\u001b[0m\u001b[0;34m.\u001b[0m\u001b[0mupdates\u001b[0m \u001b[0;34m=\u001b[0m \u001b[0;34m[\u001b[0m\u001b[0;34m]\u001b[0m\u001b[0;34m\u001b[0m\u001b[0m\n\u001b[1;32m    652\u001b[0m \u001b[0;34m\u001b[0m\u001b[0m\n",
      "\u001b[0;32m/home/abenjamin/repos/keras/keras/backend/theano_backend.pyc\u001b[0m in \u001b[0;36mstack\u001b[0;34m(x, axis)\u001b[0m\n\u001b[1;32m   1038\u001b[0m \u001b[0;34m\u001b[0m\u001b[0m\n\u001b[1;32m   1039\u001b[0m \u001b[0;32mdef\u001b[0m \u001b[0mstack\u001b[0m\u001b[0;34m(\u001b[0m\u001b[0mx\u001b[0m\u001b[0;34m,\u001b[0m \u001b[0maxis\u001b[0m\u001b[0;34m=\u001b[0m\u001b[0;36m0\u001b[0m\u001b[0;34m)\u001b[0m\u001b[0;34m:\u001b[0m\u001b[0;34m\u001b[0m\u001b[0m\n\u001b[0;32m-> 1040\u001b[0;31m     \u001b[0;32mreturn\u001b[0m \u001b[0mT\u001b[0m\u001b[0;34m.\u001b[0m\u001b[0mstack\u001b[0m\u001b[0;34m(\u001b[0m\u001b[0mx\u001b[0m\u001b[0;34m,\u001b[0m \u001b[0maxis\u001b[0m\u001b[0;34m=\u001b[0m\u001b[0maxis\u001b[0m\u001b[0;34m)\u001b[0m\u001b[0;34m\u001b[0m\u001b[0m\n\u001b[0m\u001b[1;32m   1041\u001b[0m \u001b[0;34m\u001b[0m\u001b[0m\n\u001b[1;32m   1042\u001b[0m \u001b[0;34m\u001b[0m\u001b[0m\n",
      "\u001b[0;32m/opt/anaconda/anaconda2/envs/py27/lib/python2.7/site-packages/theano/tensor/basic.pyc\u001b[0m in \u001b[0;36mstack\u001b[0;34m(*tensors, **kwargs)\u001b[0m\n\u001b[1;32m   4583\u001b[0m         \u001b[0mdtype\u001b[0m \u001b[0;34m=\u001b[0m \u001b[0mscal\u001b[0m\u001b[0;34m.\u001b[0m\u001b[0mupcast\u001b[0m\u001b[0;34m(\u001b[0m\u001b[0;34m*\u001b[0m\u001b[0;34m[\u001b[0m\u001b[0mi\u001b[0m\u001b[0;34m.\u001b[0m\u001b[0mdtype\u001b[0m \u001b[0;32mfor\u001b[0m \u001b[0mi\u001b[0m \u001b[0;32min\u001b[0m \u001b[0mtensors\u001b[0m\u001b[0;34m]\u001b[0m\u001b[0;34m)\u001b[0m\u001b[0;34m\u001b[0m\u001b[0m\n\u001b[1;32m   4584\u001b[0m         \u001b[0;32mreturn\u001b[0m \u001b[0mtheano\u001b[0m\u001b[0;34m.\u001b[0m\u001b[0mtensor\u001b[0m\u001b[0;34m.\u001b[0m\u001b[0mopt\u001b[0m\u001b[0;34m.\u001b[0m\u001b[0mMakeVector\u001b[0m\u001b[0;34m(\u001b[0m\u001b[0mdtype\u001b[0m\u001b[0;34m)\u001b[0m\u001b[0;34m(\u001b[0m\u001b[0;34m*\u001b[0m\u001b[0mtensors\u001b[0m\u001b[0;34m)\u001b[0m\u001b[0;34m\u001b[0m\u001b[0m\n\u001b[0;32m-> 4585\u001b[0;31m     \u001b[0;32mreturn\u001b[0m \u001b[0mjoin\u001b[0m\u001b[0;34m(\u001b[0m\u001b[0maxis\u001b[0m\u001b[0;34m,\u001b[0m \u001b[0;34m*\u001b[0m\u001b[0;34m[\u001b[0m\u001b[0mshape_padaxis\u001b[0m\u001b[0;34m(\u001b[0m\u001b[0mt\u001b[0m\u001b[0;34m,\u001b[0m \u001b[0maxis\u001b[0m\u001b[0;34m)\u001b[0m \u001b[0;32mfor\u001b[0m \u001b[0mt\u001b[0m \u001b[0;32min\u001b[0m \u001b[0mtensors\u001b[0m\u001b[0;34m]\u001b[0m\u001b[0;34m)\u001b[0m\u001b[0;34m\u001b[0m\u001b[0m\n\u001b[0m\u001b[1;32m   4586\u001b[0m \u001b[0;34m\u001b[0m\u001b[0m\n\u001b[1;32m   4587\u001b[0m \u001b[0;34m\u001b[0m\u001b[0m\n",
      "\u001b[0;32m/opt/anaconda/anaconda2/envs/py27/lib/python2.7/site-packages/theano/tensor/basic.pyc\u001b[0m in \u001b[0;36mjoin\u001b[0;34m(axis, *tensors_list)\u001b[0m\n\u001b[1;32m   4357\u001b[0m         \u001b[0;32mreturn\u001b[0m \u001b[0mtensors_list\u001b[0m\u001b[0;34m[\u001b[0m\u001b[0;36m0\u001b[0m\u001b[0;34m]\u001b[0m\u001b[0;34m\u001b[0m\u001b[0m\n\u001b[1;32m   4358\u001b[0m     \u001b[0;32melse\u001b[0m\u001b[0;34m:\u001b[0m\u001b[0;34m\u001b[0m\u001b[0m\n\u001b[0;32m-> 4359\u001b[0;31m         \u001b[0;32mreturn\u001b[0m \u001b[0mjoin_\u001b[0m\u001b[0;34m(\u001b[0m\u001b[0maxis\u001b[0m\u001b[0;34m,\u001b[0m \u001b[0;34m*\u001b[0m\u001b[0mtensors_list\u001b[0m\u001b[0;34m)\u001b[0m\u001b[0;34m\u001b[0m\u001b[0m\n\u001b[0m\u001b[1;32m   4360\u001b[0m \u001b[0;34m\u001b[0m\u001b[0m\n\u001b[1;32m   4361\u001b[0m \u001b[0;34m\u001b[0m\u001b[0m\n",
      "\u001b[0;32m/opt/anaconda/anaconda2/envs/py27/lib/python2.7/site-packages/theano/gof/op.pyc\u001b[0m in \u001b[0;36m__call__\u001b[0;34m(self, *inputs, **kwargs)\u001b[0m\n\u001b[1;32m    613\u001b[0m         \"\"\"\n\u001b[1;32m    614\u001b[0m         \u001b[0mreturn_list\u001b[0m \u001b[0;34m=\u001b[0m \u001b[0mkwargs\u001b[0m\u001b[0;34m.\u001b[0m\u001b[0mpop\u001b[0m\u001b[0;34m(\u001b[0m\u001b[0;34m'return_list'\u001b[0m\u001b[0;34m,\u001b[0m \u001b[0mFalse\u001b[0m\u001b[0;34m)\u001b[0m\u001b[0;34m\u001b[0m\u001b[0m\n\u001b[0;32m--> 615\u001b[0;31m         \u001b[0mnode\u001b[0m \u001b[0;34m=\u001b[0m \u001b[0mself\u001b[0m\u001b[0;34m.\u001b[0m\u001b[0mmake_node\u001b[0m\u001b[0;34m(\u001b[0m\u001b[0;34m*\u001b[0m\u001b[0minputs\u001b[0m\u001b[0;34m,\u001b[0m \u001b[0;34m**\u001b[0m\u001b[0mkwargs\u001b[0m\u001b[0;34m)\u001b[0m\u001b[0;34m\u001b[0m\u001b[0m\n\u001b[0m\u001b[1;32m    616\u001b[0m \u001b[0;34m\u001b[0m\u001b[0m\n\u001b[1;32m    617\u001b[0m         \u001b[0;32mif\u001b[0m \u001b[0mconfig\u001b[0m\u001b[0;34m.\u001b[0m\u001b[0mcompute_test_value\u001b[0m \u001b[0;34m!=\u001b[0m \u001b[0;34m'off'\u001b[0m\u001b[0;34m:\u001b[0m\u001b[0;34m\u001b[0m\u001b[0m\n",
      "\u001b[0;32m/opt/anaconda/anaconda2/envs/py27/lib/python2.7/site-packages/theano/tensor/basic.pyc\u001b[0m in \u001b[0;36mmake_node\u001b[0;34m(self, *axis_and_tensors)\u001b[0m\n\u001b[1;32m   4090\u001b[0m \u001b[0;34m\u001b[0m\u001b[0m\n\u001b[1;32m   4091\u001b[0m         return self._make_node_internal(\n\u001b[0;32m-> 4092\u001b[0;31m             axis, tensors, as_tensor_variable_args, output_maker)\n\u001b[0m\u001b[1;32m   4093\u001b[0m \u001b[0;34m\u001b[0m\u001b[0m\n\u001b[1;32m   4094\u001b[0m     def _make_node_internal(self, axis, tensors,\n",
      "\u001b[0;32m/opt/anaconda/anaconda2/envs/py27/lib/python2.7/site-packages/theano/tensor/basic.pyc\u001b[0m in \u001b[0;36m_make_node_internal\u001b[0;34m(self, axis, tensors, as_tensor_variable_args, output_maker)\u001b[0m\n\u001b[1;32m   4156\u001b[0m         if not python_all([x.ndim == len(bcastable)\n\u001b[1;32m   4157\u001b[0m                            for x in as_tensor_variable_args[1:]]):\n\u001b[0;32m-> 4158\u001b[0;31m             raise TypeError(\"Join() can only join tensors with the same \"\n\u001b[0m\u001b[1;32m   4159\u001b[0m                             \"number of dimensions.\")\n\u001b[1;32m   4160\u001b[0m \u001b[0;34m\u001b[0m\u001b[0m\n",
      "\u001b[0;31mTypeError\u001b[0m: Join() can only join tensors with the same number of dimensions."
     ]
    }
   ],
   "source": [
    "batch_size = 32\n",
    "epochs = 10\n",
    "nb_train = 10000\n",
    "nb_test = 1000\n",
    "\n",
    "gdam_hist = minibatch_History(Nevery = 50)\n",
    "\n",
    "gdam.fit(x_train[:nb_train], y_train[:nb_train],\n",
    "          batch_size=batch_size,\n",
    "          epochs=epochs,\n",
    "          verbose=2,\n",
    "          \n",
    "          validation_data=(x_test[:nb_test], y_test[:nb_test]),\n",
    "          callbacks=[gdam_hist])"
   ]
  },
  {
   "cell_type": "markdown",
   "metadata": {},
   "source": [
    "## Plot computational graphs\n",
    "\n",
    "Train a simple 2 layer linear net on a simple problem. Print the computation graph to error check.\n",
    "\n",
    "We'll be using TensorBoard, since it's awesome. This will print the log file for tensorboard; to see the graph and metrics you'll have to open the log in standalone tensorboard.\n",
    "\n",
    "Note that this requires us to be using tf as the backend."
   ]
  },
  {
   "cell_type": "code",
   "execution_count": 9,
   "metadata": {
    "collapsed": false
   },
   "outputs": [],
   "source": [
    "# function: z = exp(-x^2 -y^2)\n",
    "\n",
    "x = np.random.normal(size = (1000,2))\n",
    "z = np.exp(-x[:,1]**2 -x[:,0]**2)\n",
    "\n",
    "x_test = np.random.normal(size = (100,2))\n",
    "z_test = np.exp(-x_test[:,1]**2 -x_test[:,0]**2)\n"
   ]
  },
  {
   "cell_type": "code",
   "execution_count": 10,
   "metadata": {
    "collapsed": false
   },
   "outputs": [],
   "source": [
    "small_model = Sequential()\n",
    "\n",
    "small_model.add(Dense(2, activation='linear',input_shape=(2,)))\n",
    "small_model.add(Dense(1, activation='linear'))\n",
    "\n",
    "opt = keras.optimizers.SGD()\n",
    "small_model.compile(loss=keras.losses.mean_squared_error,\n",
    "              optimizer=opt)\n"
   ]
  },
  {
   "cell_type": "code",
   "execution_count": 11,
   "metadata": {
    "collapsed": false
   },
   "outputs": [
    {
     "ename": "RuntimeError",
     "evalue": "TensorBoard callback only works with the TensorFlow backend.",
     "output_type": "error",
     "traceback": [
      "\u001b[0;31m---------------------------------------------------------------------------\u001b[0m",
      "\u001b[0;31mRuntimeError\u001b[0m                              Traceback (most recent call last)",
      "\u001b[0;32m<ipython-input-11-52caf221e7c4>\u001b[0m in \u001b[0;36m<module>\u001b[0;34m()\u001b[0m\n\u001b[1;32m      1\u001b[0m \u001b[0;31m# for tensorboard\u001b[0m\u001b[0;34m\u001b[0m\u001b[0;34m\u001b[0m\u001b[0m\n\u001b[0;32m----> 2\u001b[0;31m \u001b[0mtbCallBack\u001b[0m \u001b[0;34m=\u001b[0m \u001b[0mkeras\u001b[0m\u001b[0;34m.\u001b[0m\u001b[0mcallbacks\u001b[0m\u001b[0;34m.\u001b[0m\u001b[0mTensorBoard\u001b[0m\u001b[0;34m(\u001b[0m\u001b[0mlog_dir\u001b[0m\u001b[0;34m=\u001b[0m\u001b[0;34m'./Graph'\u001b[0m\u001b[0;34m,\u001b[0m \u001b[0mhistogram_freq\u001b[0m\u001b[0;34m=\u001b[0m\u001b[0;36m0\u001b[0m\u001b[0;34m,\u001b[0m \u001b[0mwrite_graph\u001b[0m\u001b[0;34m=\u001b[0m\u001b[0mTrue\u001b[0m\u001b[0;34m,\u001b[0m \u001b[0mwrite_images\u001b[0m\u001b[0;34m=\u001b[0m\u001b[0mTrue\u001b[0m\u001b[0;34m)\u001b[0m\u001b[0;34m\u001b[0m\u001b[0m\n\u001b[0m\u001b[1;32m      3\u001b[0m \u001b[0;34m\u001b[0m\u001b[0m\n\u001b[1;32m      4\u001b[0m small_model.fit(x,z,\n\u001b[1;32m      5\u001b[0m           \u001b[0mbatch_size\u001b[0m\u001b[0;34m=\u001b[0m\u001b[0;36m10\u001b[0m\u001b[0;34m,\u001b[0m\u001b[0;34m\u001b[0m\u001b[0m\n",
      "\u001b[0;32m/home/abenjamin/repos/keras/keras/callbacks.pyc\u001b[0m in \u001b[0;36m__init__\u001b[0;34m(self, log_dir, histogram_freq, write_graph, write_images, embeddings_freq, embeddings_layer_names, embeddings_metadata)\u001b[0m\n\u001b[1;32m    612\u001b[0m         \u001b[0msuper\u001b[0m\u001b[0;34m(\u001b[0m\u001b[0mTensorBoard\u001b[0m\u001b[0;34m,\u001b[0m \u001b[0mself\u001b[0m\u001b[0;34m)\u001b[0m\u001b[0;34m.\u001b[0m\u001b[0m__init__\u001b[0m\u001b[0;34m(\u001b[0m\u001b[0;34m)\u001b[0m\u001b[0;34m\u001b[0m\u001b[0m\n\u001b[1;32m    613\u001b[0m         \u001b[0;32mif\u001b[0m \u001b[0mK\u001b[0m\u001b[0;34m.\u001b[0m\u001b[0mbackend\u001b[0m\u001b[0;34m(\u001b[0m\u001b[0;34m)\u001b[0m \u001b[0;34m!=\u001b[0m \u001b[0;34m'tensorflow'\u001b[0m\u001b[0;34m:\u001b[0m\u001b[0;34m\u001b[0m\u001b[0m\n\u001b[0;32m--> 614\u001b[0;31m             raise RuntimeError('TensorBoard callback only works '\n\u001b[0m\u001b[1;32m    615\u001b[0m                                'with the TensorFlow backend.')\n\u001b[1;32m    616\u001b[0m         \u001b[0mself\u001b[0m\u001b[0;34m.\u001b[0m\u001b[0mlog_dir\u001b[0m \u001b[0;34m=\u001b[0m \u001b[0mlog_dir\u001b[0m\u001b[0;34m\u001b[0m\u001b[0m\n",
      "\u001b[0;31mRuntimeError\u001b[0m: TensorBoard callback only works with the TensorFlow backend."
     ]
    }
   ],
   "source": [
    "# for tensorboard\n",
    "tbCallBack = keras.callbacks.TensorBoard(log_dir='./Graph', histogram_freq=0, write_graph=True, write_images=True)\n",
    "\n",
    "small_model.fit(x,z,\n",
    "          batch_size=10,\n",
    "          epochs=10,\n",
    "          verbose=0,\n",
    "          validation_data=(x_test, z_test),\n",
    "          callbacks=[tbCallBack])"
   ]
  },
  {
   "cell_type": "code",
   "execution_count": null,
   "metadata": {
    "collapsed": false
   },
   "outputs": [],
   "source": [
    "# x = np.array([[[1,2], [2,2]], [[3,2], [4,2]]])\n",
    "# y = np.array([[[5,2], [6,2]], [[7,2], [8,2]]])\n",
    "\n",
    "x = np.ones((30,2,3))\n",
    "y = x\n",
    "\n",
    "print(np.sum(np.multiply(x,y)))\n",
    "\n",
    "x = K.constant(x)\n",
    "y = K.constant(y)\n",
    "\n",
    "K.eval(K.sum(keras.backend.batch_dot(x,y,axes=(0,9)),axis=0))"
   ]
  },
  {
   "cell_type": "code",
   "execution_count": null,
   "metadata": {
    "collapsed": false
   },
   "outputs": [],
   "source": [
    "x = np.array([[1, 2], [3, 4]])\n",
    "y = np.array([[5, 6], [7, 8]])\n",
    "\n",
    "np.sum(np.multiply(x,y))"
   ]
  },
  {
   "cell_type": "markdown",
   "metadata": {},
   "source": [
    "## Plot gradients\n",
    "#### As a function of inputs, and as a function of batch/epoch"
   ]
  }
 ],
 "metadata": {
  "anaconda-cloud": {},
  "kernelspec": {
   "display_name": "Python 2",
   "language": "python",
   "name": "python2"
  },
  "language_info": {
   "codemirror_mode": {
    "name": "ipython",
    "version": 2
   },
   "file_extension": ".py",
   "mimetype": "text/x-python",
   "name": "python",
   "nbconvert_exporter": "python",
   "pygments_lexer": "ipython2",
   "version": "2.7.13"
  }
 },
 "nbformat": 4,
 "nbformat_minor": 0
}
