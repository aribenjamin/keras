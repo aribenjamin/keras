{
 "cells": [
  {
   "cell_type": "markdown",
   "metadata": {},
   "source": [
    "# Optimizer Testbed\n",
    "\n",
    "#### This notebook tests optimization algorithms\n",
    "\n",
    "Tasks\n",
    "0. MNIST classification (CNN)\n",
    "0. CIFAR-10 classification (CNN)\n",
    "0. MNIST GAN?"
   ]
  },
  {
   "cell_type": "code",
   "execution_count": 1,
   "metadata": {
    "collapsed": false
   },
   "outputs": [
    {
     "name": "stderr",
     "output_type": "stream",
     "text": [
      "Using Theano backend.\n",
      "WARNING (theano.sandbox.cuda): The cuda backend is deprecated and will be removed in the next release (v0.10).  Please switch to the gpuarray backend. You can get more information about how to switch at this URL:\n",
      " https://github.com/Theano/Theano/wiki/Converting-to-the-new-gpu-back-end%28gpuarray%29\n",
      "\n",
      "Using gpu device 2: GeForce GTX TITAN X (CNMeM is enabled with initial size: 50.0% of memory, cuDNN 5103)\n"
     ]
    }
   ],
   "source": [
    "from __future__ import print_function\n",
    "import keras\n",
    "from keras.datasets import mnist\n",
    "from keras.models import Sequential\n",
    "from keras.layers import Dense, Dropout, Flatten\n",
    "from keras.layers import Conv2D, MaxPooling2D\n",
    "from keras import backend as K\n",
    "\n",
    "import numpy as np\n",
    "import pandas as pd\n",
    "\n",
    "import matplotlib.pyplot as plt\n",
    "import matplotlib.gridspec as gridspec\n",
    "%matplotlib inline\n",
    "\n",
    "#for plots\n",
    "def simpleaxis(ax):\n",
    "    ax.spines['top'].set_visible(False)\n",
    "    ax.spines['right'].set_visible(False)\n",
    "    ax.get_xaxis().tick_bottom()\n",
    "    ax.get_yaxis().tick_left()\n",
    "    ax.xaxis.set_tick_params(size=6)\n",
    "    ax.yaxis.set_tick_params(size=6)\n",
    "colors=['#F5A21E', '#02A68E', '#EF3E34', '#134B64', '#FF07CD']\n"
   ]
  },
  {
   "cell_type": "markdown",
   "metadata": {},
   "source": [
    "## MNIST classification\n",
    "\n",
    "Load data"
   ]
  },
  {
   "cell_type": "code",
   "execution_count": 2,
   "metadata": {
    "collapsed": false
   },
   "outputs": [
    {
     "name": "stdout",
     "output_type": "stream",
     "text": [
      "x_train shape: (60000, 28, 28, 1)\n",
      "60000 train samples\n",
      "10000 test samples\n"
     ]
    }
   ],
   "source": [
    "num_classes = 10\n",
    "\n",
    "# input image dimensions\n",
    "img_rows, img_cols = 28, 28\n",
    "\n",
    "# the data, shuffled and split between train and test sets\n",
    "(x_train, y_train), (x_test, y_test) = mnist.load_data()\n",
    "\n",
    "if K.image_data_format() == 'channels_first':\n",
    "    x_train = x_train.reshape(x_train.shape[0], 1, img_rows, img_cols)\n",
    "    x_test = x_test.reshape(x_test.shape[0], 1, img_rows, img_cols)\n",
    "    input_shape = (1, img_rows, img_cols)\n",
    "else:\n",
    "    x_train = x_train.reshape(x_train.shape[0], img_rows, img_cols, 1)\n",
    "    x_test = x_test.reshape(x_test.shape[0], img_rows, img_cols, 1)\n",
    "    input_shape = (img_rows, img_cols, 1)\n",
    "\n",
    "x_train = x_train.astype('float32')\n",
    "x_test = x_test.astype('float32')\n",
    "x_train /= 255\n",
    "x_test /= 255\n",
    "print('x_train shape:', x_train.shape)\n",
    "print(x_train.shape[0], 'train samples')\n",
    "print(x_test.shape[0], 'test samples')\n",
    "\n",
    "# convert class vectors to binary class matrices\n",
    "y_train = keras.utils.to_categorical(y_train, num_classes)\n",
    "y_test = keras.utils.to_categorical(y_test, num_classes)"
   ]
  },
  {
   "cell_type": "markdown",
   "metadata": {},
   "source": [
    "Build model:"
   ]
  },
  {
   "cell_type": "code",
   "execution_count": 3,
   "metadata": {
    "collapsed": false
   },
   "outputs": [],
   "source": [
    "model = Sequential()\n",
    "model.add(Conv2D(32, kernel_size=(3, 3),\n",
    "                 activation='relu',\n",
    "                 input_shape=input_shape))\n",
    "model.add(Conv2D(64, (3, 3), activation='relu'))\n",
    "model.add(MaxPooling2D(pool_size=(2, 2)))\n",
    "model.add(Dropout(0.25))\n",
    "model.add(Flatten())\n",
    "model.add(Dense(128, activation='relu'))\n",
    "model.add(Dropout(0.5))\n",
    "model.add(Dense(num_classes, activation='softmax'))\n",
    "\n",
    "model.compile(loss=keras.losses.categorical_crossentropy,\n",
    "              optimizer=keras.optimizers.Adadelta(),\n",
    "              metrics=['accuracy'])\n"
   ]
  },
  {
   "cell_type": "markdown",
   "metadata": {
    "collapsed": false
   },
   "source": [
    "Train the model, plotting both train and test loss."
   ]
  },
  {
   "cell_type": "code",
   "execution_count": 4,
   "metadata": {
    "collapsed": false
   },
   "outputs": [],
   "source": [
    "# First define a callback to record train and test loss on each minibatch\n",
    "from keras.callbacks import Callback\n",
    "\n",
    "\n",
    "class minibatch_History(Callback):\n",
    "    \"\"\"Callback that records events into a `History` object.\n",
    "    \n",
    "    Predicts over the validation set and each input batch (w/o dropout) \n",
    "    after each batch.\n",
    "\n",
    "    \"\"\"\n",
    "    def __init__(self, count_mode='samples', Nevery = 1):\n",
    "        super(minibatch_History, self).__init__()\n",
    "        self.Nevery = Nevery\n",
    "            \n",
    "    \n",
    "    def on_train_begin(self, logs=None):\n",
    "        self.batch = []\n",
    "        self.history = {'val_loss':list(),\n",
    "                        'val_acc':list()}\n",
    "        self.batch_no = 0\n",
    "        self.target = self.params['samples']\n",
    "        \n",
    "    def on_batch_end(self, batch, logs=None):\n",
    "        if self.batch_no % self.Nevery == 0 or self.batch_no == self.target:\n",
    "            logs = logs or {}\n",
    "            self.batch.append(batch)\n",
    "            for k, v in logs.items():\n",
    "                self.history.setdefault(k, []).append(v)\n",
    "\n",
    "            # add validation loss. Only test on a random subset of minibatch size\n",
    "            val_loss, val_acc =  self.model.evaluate(self.validation_data[0], \n",
    "                                                     self.validation_data[1], verbose=0)   \n",
    "            self.history['val_loss'].append(val_loss)\n",
    "            self.history['val_acc'].append(val_acc)\n"
   ]
  },
  {
   "cell_type": "code",
   "execution_count": 5,
   "metadata": {
    "collapsed": false
   },
   "outputs": [
    {
     "name": "stdout",
     "output_type": "stream",
     "text": [
      "Train on 10000 samples, validate on 1000 samples\n",
      "Epoch 1/10\n",
      "4s - loss: 0.8785 - acc: 0.7274 - val_loss: 0.3713 - val_acc: 0.8740\n",
      "Epoch 2/10\n",
      "4s - loss: 0.3110 - acc: 0.9073 - val_loss: 0.1986 - val_acc: 0.9400\n",
      "Epoch 3/10\n",
      "4s - loss: 0.2208 - acc: 0.9360 - val_loss: 0.1838 - val_acc: 0.9400\n",
      "Epoch 4/10\n",
      "4s - loss: 0.1716 - acc: 0.9515 - val_loss: 0.1245 - val_acc: 0.9570\n",
      "Epoch 5/10\n",
      "4s - loss: 0.1407 - acc: 0.9600 - val_loss: 0.1062 - val_acc: 0.9650\n",
      "Epoch 6/10\n",
      "4s - loss: 0.1267 - acc: 0.9626 - val_loss: 0.0948 - val_acc: 0.9710\n",
      "Epoch 7/10\n",
      "4s - loss: 0.1070 - acc: 0.9686 - val_loss: 0.0948 - val_acc: 0.9720\n",
      "Epoch 8/10\n",
      "4s - loss: 0.0949 - acc: 0.9704 - val_loss: 0.0873 - val_acc: 0.9700\n",
      "Epoch 9/10\n",
      "4s - loss: 0.0827 - acc: 0.9744 - val_loss: 0.0831 - val_acc: 0.9720\n",
      "Epoch 10/10\n",
      "4s - loss: 0.0774 - acc: 0.9766 - val_loss: 0.0814 - val_acc: 0.9730\n",
      "Test loss: 0.0752423943387\n",
      "Test accuracy: 0.9758\n"
     ]
    }
   ],
   "source": [
    "batch_size = 128\n",
    "epochs = 10\n",
    "nb_train = 10000\n",
    "nb_test = 1000\n",
    "\n",
    "hist = minibatch_History(Nevery = 20)\n",
    "\n",
    "model.fit(x_train[:nb_train], y_train[:nb_train],\n",
    "          batch_size=batch_size,\n",
    "          epochs=epochs,\n",
    "          verbose=2,\n",
    "          \n",
    "          validation_data=(x_test[:nb_test], y_test[:nb_test]),\n",
    "          callbacks=[hist])\n",
    "score = model.evaluate(x_test, y_test, verbose=0)\n",
    "print('Test loss:', score[0])\n",
    "print('Test accuracy:', score[1])"
   ]
  },
  {
   "cell_type": "code",
   "execution_count": 6,
   "metadata": {
    "collapsed": false
   },
   "outputs": [
    {
     "data": {
      "image/png": "[encoded data removed]",
      "text/plain": [
       "<matplotlib.figure.Figure at 0x7fd1660216d0>"
      ]
     },
     "metadata": {},
     "output_type": "display_data"
    }
   ],
   "source": [
    "plt.figure(figsize=(5,5))\n",
    "simpleaxis(plt.gca())\n",
    "\n",
    "batch_no = np.arange(np.array(hist.history['loss']).shape[0])\n",
    "plt.plot(batch_no,hist.history['loss'],color=colors[0])\n",
    "plt.plot(batch_no,hist.history['val_loss'],color=colors[1])\n",
    "plt.legend(['Train','Validation'],loc=0)\n",
    "plt.xlabel('Batch #',fontsize='large')\n",
    "plt.ylabel('Loss',fontsize='large')\n",
    "plt.ylim((0,1));"
   ]
  },
  {
   "cell_type": "markdown",
   "metadata": {},
   "source": [
    "Note that the the training loss is higher because it is calculated from the net in training, which has dropout instantiated. TODO change the callback so this prints the actual loss."
   ]
  },
  {
   "cell_type": "markdown",
   "metadata": {},
   "source": [
    "## Test GraVa"
   ]
  },
  {
   "cell_type": "code",
   "execution_count": 7,
   "metadata": {
    "collapsed": false
   },
   "outputs": [],
   "source": [
    "gr_model = Sequential()\n",
    "gr_model.add(Conv2D(32, kernel_size=(3, 3),\n",
    "                 activation='relu',\n",
    "                 input_shape=input_shape))\n",
    "gr_model.add(Conv2D(64, (3, 3), activation='relu'))\n",
    "gr_model.add(MaxPooling2D(pool_size=(2, 2)))\n",
    "gr_model.add(Dropout(0.25))\n",
    "gr_model.add(Flatten())\n",
    "gr_model.add(Dense(128, activation='relu'))\n",
    "gr_model.add(Dropout(0.5))\n",
    "gr_model.add(Dense(num_classes, activation='softmax'))\n",
    "\n",
    "\n",
    "opt = keras.optimizers.GraVa(lr=0.001, beta_1=0.9, beta_2=0.999, var_care=1, decay=0.0)\n",
    "gr_model.compile(loss=keras.losses.categorical_crossentropy,\n",
    "              optimizer=opt,\n",
    "              metrics=['accuracy'])"
   ]
  },
  {
   "cell_type": "code",
   "execution_count": 8,
   "metadata": {
    "collapsed": false
   },
   "outputs": [
    {
     "name": "stdout",
     "output_type": "stream",
     "text": [
      "Train on 10000 samples, validate on 1000 samples\n",
      "Epoch 1/10\n",
      "4s - loss: 2.3128 - acc: 0.0977 - val_loss: 2.3059 - val_acc: 0.0830\n",
      "Epoch 2/10\n",
      "4s - loss: 2.3050 - acc: 0.1057 - val_loss: 2.2974 - val_acc: 0.1050\n",
      "Epoch 3/10\n",
      "4s - loss: 2.2962 - acc: 0.1207 - val_loss: 2.2867 - val_acc: 0.1430\n",
      "Epoch 4/10\n",
      "4s - loss: 2.2840 - acc: 0.1383 - val_loss: 2.2742 - val_acc: 0.1850\n",
      "Epoch 5/10\n",
      "4s - loss: 2.2709 - acc: 0.1629 - val_loss: 2.2597 - val_acc: 0.2390\n",
      "Epoch 6/10\n",
      "4s - loss: 2.2581 - acc: 0.1868 - val_loss: 2.2433 - val_acc: 0.3030\n",
      "Epoch 7/10\n",
      "4s - loss: 2.2359 - acc: 0.2349 - val_loss: 2.2240 - val_acc: 0.3720\n",
      "Epoch 8/10\n",
      "4s - loss: 2.2181 - acc: 0.2536 - val_loss: 2.2013 - val_acc: 0.4440\n",
      "Epoch 9/10\n",
      "4s - loss: 2.1938 - acc: 0.2830 - val_loss: 2.1740 - val_acc: 0.5030\n",
      "Epoch 10/10\n",
      "4s - loss: 2.1635 - acc: 0.3191 - val_loss: 2.1409 - val_acc: 0.5270\n",
      "Test loss: 2.12359971237\n",
      "Test accuracy: 0.5673\n"
     ]
    }
   ],
   "source": [
    "batch_size = 128\n",
    "epochs = 10\n",
    "nb_train = 10000\n",
    "nb_test = 1000\n",
    "\n",
    "gr_hist = minibatch_History(Nevery = 20)\n",
    "\n",
    "gr_model.fit(x_train[:nb_train], y_train[:nb_train],\n",
    "          batch_size=batch_size,\n",
    "          epochs=epochs,\n",
    "          verbose=2,\n",
    "          \n",
    "          validation_data=(x_test[:nb_test], y_test[:nb_test]),\n",
    "          callbacks=[gr_hist])\n",
    "score = gr_model.evaluate(x_test, y_test, verbose=0)\n",
    "print('Test loss:', score[0])\n",
    "print('Test accuracy:', score[1])"
   ]
  },
  {
   "cell_type": "code",
   "execution_count": 13,
   "metadata": {
    "collapsed": false
   },
   "outputs": [
    {
     "data": {
      "image/png": "[encoded data removed]",
      "text/plain": [
       "<matplotlib.figure.Figure at 0x7fd16283e310>"
      ]
     },
     "metadata": {},
     "output_type": "display_data"
    }
   ],
   "source": [
    "plt.figure(figsize=(5,5))\n",
    "simpleaxis(plt.gca())\n",
    "\n",
    "batch_no = np.arange(np.array(hist.history['loss']).shape[0])\n",
    "plt.plot(batch_no,hist.history['val_loss'],color=colors[0])\n",
    "plt.plot(batch_no,gr_hist.history['val_loss'],color=colors[1])\n",
    "plt.legend(['adadelta','grava'],loc=0)\n",
    "plt.xlabel('Batch #',fontsize='large')\n",
    "plt.ylabel('Loss',fontsize='large')\n",
    "plt.ylim((0,3));"
   ]
  },
  {
   "cell_type": "markdown",
   "metadata": {},
   "source": [
    "#### Now optimize parameters to see if we can improve this horrid performance"
   ]
  },
  {
   "cell_type": "code",
   "execution_count": null,
   "metadata": {
    "collapsed": false
   },
   "outputs": [
    {
     "name": "stdout",
     "output_type": "stream",
     "text": [
      "[0.20149210471212864, 0.94079999999999997] {'var_care': 1.8710515149091338, 'lr': 0.006130850512544901}\n",
      "[1.8405439571380615, 0.72670000000000001] {'var_care': 5.244779698526706, 'lr': 0.00020953708995017191}\n",
      "[14.299974133300781, 0.1128] {'var_care': 0.3128975891087673, 'lr': 33.82060947000845}\n",
      "[2.1005243438720704, 0.59319999999999995] {'var_care': 1.0292119544888165, 'lr': 0.00017214631090061312}\n",
      "[2.2652325538635254, 0.20899999999999999] {'var_care': 26.58089980904335, 'lr': 6.380758452880467e-05}\n",
      "[2.2483019554138184, 0.28860000000000002] {'var_care': 0.32755837469538673, 'lr': 9.197069686950193e-05}\n",
      "[0.12890246709436179, 0.96230000000000004] {'var_care': 3.9820535667306634, 'lr': 0.017127521770125425}\n",
      "[2.3016370029449464, 0.1135] {'var_care': 0.018610319997188807, 'lr': 0.18950815302215726}\n",
      "[0.080755256762588393, 0.9748] {'var_care': 0.008540842986253062, 'lr': 0.028414015227342125}\n",
      "[0.070577877296844962, 0.97689999999999999] {'var_care': 0.03076808202324525, 'lr': 0.15327350893201955}\n",
      "[2.3039297874450684, 0.1135] {'var_care': 0.00013196490793105205, 'lr': 0.3196449974676625}\n",
      "[13.545647450256348, 0.15959999999999999] {'var_care': 0.05192242506991366, 'lr': 52.71586684572753}\n",
      "[14.491779391479492, 0.1009] {'var_care': 0.001967280998803399, 'lr': 40.791784389929845}\n",
      "[0.21347360077649355, 0.93700000000000006] {'var_care': 4.145746218397789, 'lr': 0.004363092240920534}\n",
      "[0.19395762984603643, 0.94210000000000005] {'var_care': 0.04951342995911637, 'lr': 0.006257623993152444}\n",
      "[14.538521841430665, 0.098000000000000004] {'var_care': 0.00012839533448175827, 'lr': 48.35277833096852}\n",
      "[14.538521841430665, 0.098000000000000004] {'var_care': 2.8469426767825053e-05, 'lr': 7.525440256321274}\n",
      "[0.45306750719547273, 0.88029999999999997] {'var_care': 0.005899612169319918, 'lr': 0.0007633914524962658}\n",
      "[0.070878340854181446, 0.97870000000000001] {'var_care': 0.43433003044414953, 'lr': 0.1254370397707391}\n",
      "[2.2738653964996338, 0.24970000000000001] {'var_care': 0.0029189210583070706, 'lr': 6.53734476893367e-05}\n",
      "[14.535298265075683, 0.098199999999999996] {'var_care': 0.22774487772798271, 'lr': 0.8287697228917501}\n",
      "[14.548192700195312, 0.0974] {'var_care': 17.118534811026752, 'lr': 2.2626151865441413}\n",
      "[0.06300622070485988, 0.98060000000000003] {'var_care': 0.0008283817404957379, 'lr': 0.11032448155541635}\n",
      "[14.454707752990723, 0.1032] {'var_care': 0.00020618683596918, 'lr': 3.2759751700124475}\n",
      "[0.063805891900975256, 0.98029999999999995] {'var_care': 0.0007911851092081927, 'lr': 0.069264318480686}\n",
      "[0.071886719584697861, 0.97660000000000002] {'var_care': 0.0005567923050682642, 'lr': 0.04057041938270022}\n",
      "[0.29665898631215093, 0.91320000000000001] {'var_care': 1.1842441349596585e-05, 'lr': 0.0017710400831124613}\n",
      "[14.680361064147949, 0.089200000000000002] {'var_care': 0.0005261815634283829, 'lr': 0.756106410574786}\n"
     ]
    }
   ],
   "source": [
    "from hyperopt import fmin, hp, Trials, tpe, STATUS_OK\n",
    "\n",
    "space4rf = {\n",
    "    'lr': hp.loguniform('lr', np.log(1e-5), np.log(1e2)),\n",
    "    'var_care': hp.loguniform('var_care', np.log(1e-5),np.log(1e2)), \n",
    "}\n",
    "\n",
    "trials = Trials()\n",
    "\n",
    "def fnc(params):\n",
    "    lr = params['lr']\n",
    "    var_care = params['var_care']\n",
    "    \n",
    "    \n",
    "    gr_model = Sequential()\n",
    "    gr_model.add(Conv2D(32, kernel_size=(3, 3),\n",
    "                 activation='relu',\n",
    "                 input_shape=input_shape))\n",
    "    gr_model.add(Conv2D(64, (3, 3), activation='relu'))\n",
    "    gr_model.add(MaxPooling2D(pool_size=(2, 2)))\n",
    "    gr_model.add(Dropout(0.25))\n",
    "    gr_model.add(Flatten())\n",
    "    gr_model.add(Dense(128, activation='relu'))\n",
    "    gr_model.add(Dropout(0.5))\n",
    "    gr_model.add(Dense(num_classes, activation='softmax'))\n",
    "\n",
    "\n",
    "    opt = keras.optimizers.GraVa(lr=lr, beta_1=0.99, beta_2=0.99, var_care=var_care, decay=0.0)\n",
    "    gr_model.compile(loss=keras.losses.categorical_crossentropy,\n",
    "                                   optimizer=opt,\n",
    "                                      metrics=['accuracy'])\n",
    "    \n",
    "    gr_model.fit(x_train[:10000], y_train[:10000],\n",
    "          batch_size=32,\n",
    "          epochs=10,\n",
    "          verbose=0,\n",
    "          \n",
    "          validation_data=(x_test[:1000], y_test[:1000]))\n",
    "    score = gr_model.evaluate(x_test, y_test, verbose=0)\n",
    "    print(score, params)\n",
    "    return {'loss':score[0], 'status': STATUS_OK }\n",
    "\n",
    "hyperoptBest = fmin(fnc, space4rf, algo=tpe.suggest, max_evals=50, trials=trials)\n",
    "\n",
    "    "
   ]
  },
  {
   "cell_type": "markdown",
   "metadata": {},
   "source": [
    "## Plot computational graphs\n",
    "\n",
    "Train a simple 2 layer linear net on a simple problem. Print the computation graph to error check.\n",
    "\n",
    "We'll be using TensorBoard, since it's awesome. This will print the log file for tensorboard; to see the graph and metrics you'll have to open the log in standalone tensorboard.\n",
    "\n",
    "Note that this requires us to be using tf as the backend."
   ]
  },
  {
   "cell_type": "code",
   "execution_count": 9,
   "metadata": {
    "collapsed": false
   },
   "outputs": [],
   "source": [
    "# function: z = exp(-x^2 -y^2)\n",
    "\n",
    "x = np.random.normal(size = (1000,2))\n",
    "z = np.exp(-x[:,1]**2 -x[:,0]**2)\n",
    "\n",
    "x_test = np.random.normal(size = (100,2))\n",
    "z_test = np.exp(-x_test[:,1]**2 -x_test[:,0]**2)\n"
   ]
  },
  {
   "cell_type": "code",
   "execution_count": 10,
   "metadata": {
    "collapsed": false
   },
   "outputs": [],
   "source": [
    "small_model = Sequential()\n",
    "\n",
    "small_model.add(Dense(2, activation='linear',input_shape=(2,)))\n",
    "small_model.add(Dense(1, activation='linear'))\n",
    "\n",
    "opt = keras.optimizers.SGD()\n",
    "small_model.compile(loss=keras.losses.mean_squared_error,\n",
    "              optimizer=opt)\n"
   ]
  },
  {
   "cell_type": "code",
   "execution_count": 11,
   "metadata": {
    "collapsed": false
   },
   "outputs": [
    {
     "ename": "RuntimeError",
     "evalue": "TensorBoard callback only works with the TensorFlow backend.",
     "output_type": "error",
     "traceback": [
      "\u001b[0;31m---------------------------------------------------------------------------\u001b[0m",
      "\u001b[0;31mRuntimeError\u001b[0m                              Traceback (most recent call last)",
      "\u001b[0;32m<ipython-input-11-52caf221e7c4>\u001b[0m in \u001b[0;36m<module>\u001b[0;34m()\u001b[0m\n\u001b[1;32m      1\u001b[0m \u001b[0;31m# for tensorboard\u001b[0m\u001b[0;34m\u001b[0m\u001b[0;34m\u001b[0m\u001b[0m\n\u001b[0;32m----> 2\u001b[0;31m \u001b[0mtbCallBack\u001b[0m \u001b[0;34m=\u001b[0m \u001b[0mkeras\u001b[0m\u001b[0;34m.\u001b[0m\u001b[0mcallbacks\u001b[0m\u001b[0;34m.\u001b[0m\u001b[0mTensorBoard\u001b[0m\u001b[0;34m(\u001b[0m\u001b[0mlog_dir\u001b[0m\u001b[0;34m=\u001b[0m\u001b[0;34m'./Graph'\u001b[0m\u001b[0;34m,\u001b[0m \u001b[0mhistogram_freq\u001b[0m\u001b[0;34m=\u001b[0m\u001b[0;36m0\u001b[0m\u001b[0;34m,\u001b[0m \u001b[0mwrite_graph\u001b[0m\u001b[0;34m=\u001b[0m\u001b[0mTrue\u001b[0m\u001b[0;34m,\u001b[0m \u001b[0mwrite_images\u001b[0m\u001b[0;34m=\u001b[0m\u001b[0mTrue\u001b[0m\u001b[0;34m)\u001b[0m\u001b[0;34m\u001b[0m\u001b[0m\n\u001b[0m\u001b[1;32m      3\u001b[0m \u001b[0;34m\u001b[0m\u001b[0m\n\u001b[1;32m      4\u001b[0m small_model.fit(x,z,\n\u001b[1;32m      5\u001b[0m           \u001b[0mbatch_size\u001b[0m\u001b[0;34m=\u001b[0m\u001b[0;36m10\u001b[0m\u001b[0;34m,\u001b[0m\u001b[0;34m\u001b[0m\u001b[0m\n",
      "\u001b[0;32m/home/abenjamin/repos/keras/keras/callbacks.pyc\u001b[0m in \u001b[0;36m__init__\u001b[0;34m(self, log_dir, histogram_freq, write_graph, write_images, embeddings_freq, embeddings_layer_names, embeddings_metadata)\u001b[0m\n\u001b[1;32m    612\u001b[0m         \u001b[0msuper\u001b[0m\u001b[0;34m(\u001b[0m\u001b[0mTensorBoard\u001b[0m\u001b[0;34m,\u001b[0m \u001b[0mself\u001b[0m\u001b[0;34m)\u001b[0m\u001b[0;34m.\u001b[0m\u001b[0m__init__\u001b[0m\u001b[0;34m(\u001b[0m\u001b[0;34m)\u001b[0m\u001b[0;34m\u001b[0m\u001b[0m\n\u001b[1;32m    613\u001b[0m         \u001b[0;32mif\u001b[0m \u001b[0mK\u001b[0m\u001b[0;34m.\u001b[0m\u001b[0mbackend\u001b[0m\u001b[0;34m(\u001b[0m\u001b[0;34m)\u001b[0m \u001b[0;34m!=\u001b[0m \u001b[0;34m'tensorflow'\u001b[0m\u001b[0;34m:\u001b[0m\u001b[0;34m\u001b[0m\u001b[0m\n\u001b[0;32m--> 614\u001b[0;31m             raise RuntimeError('TensorBoard callback only works '\n\u001b[0m\u001b[1;32m    615\u001b[0m                                'with the TensorFlow backend.')\n\u001b[1;32m    616\u001b[0m         \u001b[0mself\u001b[0m\u001b[0;34m.\u001b[0m\u001b[0mlog_dir\u001b[0m \u001b[0;34m=\u001b[0m \u001b[0mlog_dir\u001b[0m\u001b[0;34m\u001b[0m\u001b[0m\n",
      "\u001b[0;31mRuntimeError\u001b[0m: TensorBoard callback only works with the TensorFlow backend."
     ]
    }
   ],
   "source": [
    "# for tensorboard\n",
    "tbCallBack = keras.callbacks.TensorBoard(log_dir='./Graph', histogram_freq=0, write_graph=True, write_images=True)\n",
    "\n",
    "small_model.fit(x,z,\n",
    "          batch_size=10,\n",
    "          epochs=10,\n",
    "          verbose=0,\n",
    "          validation_data=(x_test, z_test),\n",
    "          callbacks=[tbCallBack])"
   ]
  },
  {
   "cell_type": "code",
   "execution_count": null,
   "metadata": {
    "collapsed": false
   },
   "outputs": [],
   "source": [
    "# x = np.array([[[1,2], [2,2]], [[3,2], [4,2]]])\n",
    "# y = np.array([[[5,2], [6,2]], [[7,2], [8,2]]])\n",
    "\n",
    "x = np.ones((30,2,3))\n",
    "y = x\n",
    "\n",
    "print(np.sum(np.multiply(x,y)))\n",
    "\n",
    "x = K.constant(x)\n",
    "y = K.constant(y)\n",
    "\n",
    "K.eval(K.sum(keras.backend.batch_dot(x,y,axes=(0,9)),axis=0))"
   ]
  },
  {
   "cell_type": "code",
   "execution_count": null,
   "metadata": {
    "collapsed": false
   },
   "outputs": [],
   "source": [
    "x = np.array([[1, 2], [3, 4]])\n",
    "y = np.array([[5, 6], [7, 8]])\n",
    "\n",
    "np.sum(np.multiply(x,y))"
   ]
  },
  {
   "cell_type": "markdown",
   "metadata": {},
   "source": [
    "## Plot gradients\n",
    "#### As a function of inputs, and as a function of batch/epoch"
   ]
  }
 ],
 "metadata": {
  "anaconda-cloud": {},
  "kernelspec": {
   "display_name": "Python 2",
   "language": "python",
   "name": "python2"
  }
 },
 "nbformat": 4,
 "nbformat_minor": 0
}
