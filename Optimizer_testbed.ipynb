{
 "cells": [
  {
   "cell_type": "markdown",
   "metadata": {},
   "source": [
    "# Optimizer Testbed\n",
    "\n",
    "#### This notebook tests optimization algorithms\n",
    "\n",
    "Tasks\n",
    "0. MNIST classification (CNN)\n",
    "0. CIFAR-10 classification (CNN)\n",
    "0. MNIST GAN?"
   ]
  },
  {
   "cell_type": "code",
   "execution_count": 1,
   "metadata": {
    "collapsed": false
   },
   "outputs": [
    {
     "name": "stderr",
     "output_type": "stream",
     "text": [
      "Using Theano backend.\n",
      "WARNING (theano.sandbox.cuda): The cuda backend is deprecated and will be removed in the next release (v0.10).  Please switch to the gpuarray backend. You can get more information about how to switch at this URL:\n",
      " https://github.com/Theano/Theano/wiki/Converting-to-the-new-gpu-back-end%28gpuarray%29\n",
      "\n",
      "Using gpu device 2: GeForce GTX TITAN X (CNMeM is enabled with initial size: 50.0% of memory, cuDNN 5103)\n"
     ]
    }
   ],
   "source": [
    "from __future__ import print_function\n",
    "import keras\n",
    "from keras.datasets import mnist\n",
    "from keras.models import Sequential\n",
    "from keras.layers import Dense, Dropout, Flatten\n",
    "from keras.layers import Conv2D, MaxPooling2D\n",
    "from keras import backend as K\n",
    "\n",
    "import numpy as np\n",
    "import pandas as pd\n",
    "\n",
    "import matplotlib.pyplot as plt\n",
    "import matplotlib.gridspec as gridspec\n",
    "%matplotlib inline\n",
    "\n",
    "#for plots\n",
    "def simpleaxis(ax):\n",
    "    ax.spines['top'].set_visible(False)\n",
    "    ax.spines['right'].set_visible(False)\n",
    "    ax.get_xaxis().tick_bottom()\n",
    "    ax.get_yaxis().tick_left()\n",
    "    ax.xaxis.set_tick_params(size=6)\n",
    "    ax.yaxis.set_tick_params(size=6)\n",
    "colors=['#F5A21E', '#02A68E', '#EF3E34', '#134B64', '#FF07CD']\n"
   ]
  },
  {
   "cell_type": "markdown",
   "metadata": {},
   "source": [
    "## MNIST classification\n",
    "\n",
    "Load data"
   ]
  },
  {
   "cell_type": "code",
   "execution_count": 2,
   "metadata": {
    "collapsed": false
   },
   "outputs": [
    {
     "name": "stdout",
     "output_type": "stream",
     "text": [
      "x_train shape: (60000, 28, 28, 1)\n",
      "60000 train samples\n",
      "10000 test samples\n"
     ]
    }
   ],
   "source": [
    "num_classes = 10\n",
    "\n",
    "# input image dimensions\n",
    "img_rows, img_cols = 28, 28\n",
    "\n",
    "# the data, shuffled and split between train and test sets\n",
    "(x_train, y_train), (x_test, y_test) = mnist.load_data()\n",
    "\n",
    "if K.image_data_format() == 'channels_first':\n",
    "    x_train = x_train.reshape(x_train.shape[0], 1, img_rows, img_cols)\n",
    "    x_test = x_test.reshape(x_test.shape[0], 1, img_rows, img_cols)\n",
    "    input_shape = (1, img_rows, img_cols)\n",
    "else:\n",
    "    x_train = x_train.reshape(x_train.shape[0], img_rows, img_cols, 1)\n",
    "    x_test = x_test.reshape(x_test.shape[0], img_rows, img_cols, 1)\n",
    "    input_shape = (img_rows, img_cols, 1)\n",
    "\n",
    "x_train = x_train.astype('float32')\n",
    "x_test = x_test.astype('float32')\n",
    "x_train /= 255\n",
    "x_test /= 255\n",
    "print('x_train shape:', x_train.shape)\n",
    "print(x_train.shape[0], 'train samples')\n",
    "print(x_test.shape[0], 'test samples')\n",
    "\n",
    "# convert class vectors to binary class matrices\n",
    "y_train = keras.utils.to_categorical(y_train, num_classes)\n",
    "y_test = keras.utils.to_categorical(y_test, num_classes)"
   ]
  },
  {
   "cell_type": "markdown",
   "metadata": {},
   "source": [
    "Build model:"
   ]
  },
  {
   "cell_type": "code",
   "execution_count": 3,
   "metadata": {
    "collapsed": false
   },
   "outputs": [],
   "source": [
    "def build_model(opt=keras.optimizers.Adadelta()):\n",
    "    model = Sequential()\n",
    "    model.add(Conv2D(32, kernel_size=(3, 3),\n",
    "                     activation='relu',\n",
    "                     input_shape=input_shape))\n",
    "    model.add(Conv2D(64, (3, 3), activation='relu'))\n",
    "    model.add(MaxPooling2D(pool_size=(2, 2)))\n",
    "    model.add(Dropout(0.25))\n",
    "    model.add(Flatten())\n",
    "    model.add(Dense(128, activation='relu'))\n",
    "    model.add(Dropout(0.5))\n",
    "    model.add(Dense(num_classes, activation='softmax'))\n",
    "\n",
    "    model.compile(loss=keras.losses.categorical_crossentropy,\n",
    "                  optimizer=opt,\n",
    "                  metrics=['accuracy'])\n",
    "    return model\n"
   ]
  },
  {
   "cell_type": "markdown",
   "metadata": {
    "collapsed": false
   },
   "source": [
    "Train the model, plotting both train and test loss."
   ]
  },
  {
   "cell_type": "code",
   "execution_count": 98,
   "metadata": {
    "collapsed": false
   },
   "outputs": [],
   "source": [
    "# First define a callback to record train and test loss on each minibatch\n",
    "from keras.callbacks import Callback\n",
    "\n",
    "\n",
    "class minibatch_History(Callback):\n",
    "    \"\"\"Callback that records events into a `History` object.\n",
    "    \n",
    "    Predicts over the validation set and each input batch (w/o dropout) \n",
    "    after each batch.\n",
    "\n",
    "    \"\"\"\n",
    "    def __init__(self, count_mode='samples', Nevery = 1):\n",
    "        super(minibatch_History, self).__init__()\n",
    "        self.Nevery = Nevery\n",
    "            \n",
    "    \n",
    "    def on_train_begin(self, logs=None):\n",
    "        self.batch = []\n",
    "        self.history = {'val_loss':list(),\n",
    "                        'val_acc':list(),\n",
    "                        'train_loss':list(),\n",
    "                        'train_acc':list()}\n",
    "        self.batch_no = 0\n",
    "        self.target = self.params['samples']\n",
    "        \n",
    "    def on_batch_end(self, batch, logs=None):\n",
    "        if self.batch_no % self.Nevery == 0 or self.batch_no == self.target:\n",
    "            logs = logs or {}\n",
    "            self.batch.append(batch)\n",
    "            #print([np.array(l).shape for l in logs['input_batch']])\n",
    "            for k, v in logs.items():\n",
    "                if k is not 'input_batch':\n",
    "                    self.history.setdefault(k, []).append(v)\n",
    "\n",
    "            # add validation loss. Only test on a random subset of minibatch size\n",
    "            val_loss, val_acc =  self.model.evaluate(self.validation_data[0], \n",
    "                                                     self.validation_data[1], verbose=0)   \n",
    "            self.history['val_loss'].append(val_loss)\n",
    "            self.history['val_acc'].append(val_acc)\n",
    "            \n",
    "            # add train loss\n",
    "            train_loss, train_acc =  self.model.evaluate(logs['input_batch'][0], \n",
    "                                                     logs['input_batch'][1], verbose=0)   \n",
    "            self.history['train_loss'].append(train_loss)\n",
    "            self.history['train_acc'].append(train_acc)\n"
   ]
  },
  {
   "cell_type": "code",
   "execution_count": 118,
   "metadata": {
    "collapsed": false
   },
   "outputs": [
    {
     "name": "stdout",
     "output_type": "stream",
     "text": [
      "Train on 60000 samples, validate on 1000 samples\n",
      "Epoch 1/2\n",
      "28s - loss: 0.3453 - acc: 0.8969 - val_loss: 0.0824 - val_acc: 0.9710\n",
      "Epoch 2/2\n",
      "28s - loss: 0.1187 - acc: 0.9651 - val_loss: 0.0585 - val_acc: 0.9820\n",
      "Test loss: 0.0565130988813\n",
      "Test accuracy: 0.9823\n"
     ]
    }
   ],
   "source": [
    "batch_size =128\n",
    "epochs = 2\n",
    "nb_train = 10000\n",
    "nb_test = 1000\n",
    "\n",
    "hist = minibatch_History(Nevery = 20)\n",
    "\n",
    "model = build_model()\n",
    "\n",
    "model.fit(x_train[:], y_train[:],\n",
    "          batch_size=batch_size,\n",
    "          epochs=epochs,\n",
    "          verbose=2,\n",
    "          \n",
    "          validation_data=(x_test[:nb_test], y_test[:nb_test]),\n",
    "          callbacks=[hist])\n",
    "score = model.evaluate(x_test, y_test, verbose=0)\n",
    "print('Test loss:', score[0])\n",
    "print('Test accuracy:', score[1])"
   ]
  },
  {
   "cell_type": "code",
   "execution_count": 32,
   "metadata": {
    "collapsed": false
   },
   "outputs": [
    {
     "data": {
      "image/png": "[encoded data removed]",
      "text/plain": [
       "<matplotlib.figure.Figure at 0x7f567724e0d0>"
      ]
     },
     "metadata": {},
     "output_type": "display_data"
    }
   ],
   "source": [
    "plt.figure(figsize=(5,5))\n",
    "simpleaxis(plt.gca())\n",
    "\n",
    "batch_no = np.arange(np.array(hist.history['loss']).shape[0])\n",
    "plt.plot(batch_no,hist.history['train_loss'],color=colors[0])\n",
    "plt.plot(batch_no,hist.history['val_loss'],color=colors[1])\n",
    "plt.legend(['Train','Validation'],loc=0)\n",
    "plt.xlabel('Batch #',fontsize='large')\n",
    "plt.ylabel('Loss',fontsize='large')\n",
    "plt.ylim((0,1));"
   ]
  },
  {
   "cell_type": "markdown",
   "metadata": {},
   "source": [
    "Note that the the training loss is higher because it is calculated from the net in training, which has dropout instantiated. TODO change the callback so this prints the actual loss."
   ]
  },
  {
   "cell_type": "markdown",
   "metadata": {},
   "source": [
    "## Test GraVa"
   ]
  },
  {
   "cell_type": "code",
   "execution_count": 5,
   "metadata": {
    "collapsed": false
   },
   "outputs": [],
   "source": [
    "opt = keras.optimizers.GraVa(lr=0.001, beta_1=0.9, beta_2=0.999, var_care=1, decay=0.0)\n",
    "gr_model = build_model(opt)"
   ]
  },
  {
   "cell_type": "code",
   "execution_count": 6,
   "metadata": {
    "collapsed": false
   },
   "outputs": [
    {
     "name": "stdout",
     "output_type": "stream",
     "text": [
      "Train on 10000 samples, validate on 1000 samples\n",
      "Epoch 1/10\n",
      "4s - loss: 2.2999 - acc: 0.1253 - val_loss: 2.2896 - val_acc: 0.2180\n",
      "Epoch 2/10\n",
      "4s - loss: 2.2873 - acc: 0.1483 - val_loss: 2.2761 - val_acc: 0.2510\n",
      "Epoch 3/10\n",
      "4s - loss: 2.2715 - acc: 0.1864 - val_loss: 2.2617 - val_acc: 0.3060\n",
      "Epoch 4/10\n",
      "4s - loss: 2.2564 - acc: 0.2181 - val_loss: 2.2454 - val_acc: 0.3980\n",
      "Epoch 5/10\n",
      "4s - loss: 2.2408 - acc: 0.2574 - val_loss: 2.2260 - val_acc: 0.4690\n",
      "Epoch 6/10\n",
      "4s - loss: 2.2185 - acc: 0.2952 - val_loss: 2.2019 - val_acc: 0.5120\n",
      "Epoch 7/10\n",
      "4s - loss: 2.1939 - acc: 0.3418 - val_loss: 2.1720 - val_acc: 0.5570\n",
      "Epoch 8/10\n",
      "4s - loss: 2.1583 - acc: 0.3738 - val_loss: 2.1326 - val_acc: 0.5890\n",
      "Epoch 9/10\n",
      "4s - loss: 2.1129 - acc: 0.4126 - val_loss: 2.0799 - val_acc: 0.6120\n",
      "Epoch 10/10\n",
      "4s - loss: 2.0586 - acc: 0.4497 - val_loss: 2.0096 - val_acc: 0.6430\n",
      "Test loss: 1.98553855743\n",
      "Test accuracy: 0.6614\n"
     ]
    }
   ],
   "source": [
    "batch_size = 128\n",
    "epochs = 10\n",
    "nb_train = 10000\n",
    "nb_test = 1000\n",
    "\n",
    "gr_hist = minibatch_History(Nevery = 20)\n",
    "\n",
    "gr_model.fit(x_train[:nb_train], y_train[:nb_train],\n",
    "          batch_size=batch_size,\n",
    "          epochs=epochs,\n",
    "          verbose=2,\n",
    "          \n",
    "          validation_data=(x_test[:nb_test], y_test[:nb_test]),\n",
    "          callbacks=[gr_hist])\n",
    "score = gr_model.evaluate(x_test, y_test, verbose=0)\n",
    "print('Test loss:', score[0])\n",
    "print('Test accuracy:', score[1])"
   ]
  },
  {
   "cell_type": "code",
   "execution_count": 9,
   "metadata": {
    "collapsed": false
   },
   "outputs": [
    {
     "data": {
      "image/png": "[encoded data removed]",
      "text/plain": [
       "<matplotlib.figure.Figure at 0x7f76c9705fd0>"
      ]
     },
     "metadata": {},
     "output_type": "display_data"
    }
   ],
   "source": [
    "plt.figure(figsize=(5,5))\n",
    "simpleaxis(plt.gca())\n",
    "\n",
    "batch_no = np.arange(np.array(hist.history['loss']).shape[0])\n",
    "plt.plot(batch_no,hist.history['val_loss'],color=colors[0])\n",
    "plt.plot(batch_no,gr_hist.history['val_loss'],color=colors[1])\n",
    "plt.legend(['adadelta','grava'],loc=0)\n",
    "plt.xlabel('Batch #',fontsize='large')\n",
    "plt.ylabel('Loss',fontsize='large')\n",
    "plt.ylim((0,3));"
   ]
  },
  {
   "cell_type": "markdown",
   "metadata": {},
   "source": [
    "#### Now optimize parameters to see if we can improve this horrid performance"
   ]
  },
  {
   "cell_type": "code",
   "execution_count": 10,
   "metadata": {
    "collapsed": false,
    "scrolled": true
   },
   "outputs": [],
   "source": [
    "from hyperopt import fmin, hp, Trials, tpe, STATUS_OK\n",
    "\n",
    "space4rf = {\n",
    "    'lr': hp.loguniform('lr', np.log(1e-5), np.log(1e-1)),\n",
    "    'var_care': hp.loguniform('var_care', np.log(1e-1),np.log(1e1)), \n",
    "}\n",
    "\n",
    "new_trials = Trials()\n",
    "\n",
    "def fnc(params):\n",
    "    lr = params['lr']\n",
    "    var_care = params['var_care']\n",
    "    \n",
    "    \n",
    "    gr_model = Sequential()\n",
    "    gr_model.add(Conv2D(32, kernel_size=(3, 3),\n",
    "                 activation='relu',\n",
    "                 input_shape=input_shape))\n",
    "    gr_model.add(Conv2D(64, (3, 3), activation='relu'))\n",
    "    gr_model.add(MaxPooling2D(pool_size=(2, 2)))\n",
    "    gr_model.add(Dropout(0.25))\n",
    "    gr_model.add(Flatten())\n",
    "    gr_model.add(Dense(128, activation='relu'))\n",
    "    gr_model.add(Dropout(0.5))\n",
    "    gr_model.add(Dense(num_classes, activation='softmax'))\n",
    "\n",
    "\n",
    "    opt = keras.optimizers.GraVa(lr=lr, beta_1=0.99, beta_2=0.99, var_care=var_care, decay=0.0)\n",
    "    gr_model.compile(loss=keras.losses.categorical_crossentropy,\n",
    "                                   optimizer=opt,\n",
    "                                      metrics=['accuracy'])\n",
    "    \n",
    "    gr_model.fit(x_train[:10000], y_train[:10000],\n",
    "          batch_size=32,\n",
    "          epochs=10,\n",
    "          verbose=0,\n",
    "          \n",
    "          validation_data=(x_test[:1000], y_test[:1000]))\n",
    "    score = gr_model.evaluate(x_test, y_test, verbose=0)\n",
    "    print(score, params)\n",
    "    return {'loss':score[0], 'status': STATUS_OK }\n",
    "\n",
    "hyperoptBest = fmin(fnc, space4rf, algo=tpe.suggest, max_evals=50, trials=new_trials)\n",
    "\n",
    "    "
   ]
  },
  {
   "cell_type": "code",
   "execution_count": 59,
   "metadata": {
    "collapsed": false
   },
   "outputs": [],
   "source": [
    "lrs, vcs, losses = zip(*[[trial['misc']['vals']['lr'][0], \\\n",
    "                    trial['misc']['vals']['var_care'][0], \\\n",
    "                    trial['result']['loss']] for trial in new_trials])\n",
    "lrs = np.array(lrs)\n",
    "vcs = np.array(vcs)\n",
    "losses = np.array(losses)"
   ]
  },
  {
   "cell_type": "code",
   "execution_count": 63,
   "metadata": {
    "collapsed": false
   },
   "outputs": [],
   "source": [
    "[(losses[i], lrs[i], vcs[i]) for i in np.argsort(losses)];"
   ]
  },
  {
   "cell_type": "code",
   "execution_count": 57,
   "metadata": {
    "collapsed": false
   },
   "outputs": [
    {
     "data": {
      "image/png": "[encoded data removed]",
      "text/plain": [
       "<matplotlib.figure.Figure at 0x7fc229bc7790>"
      ]
     },
     "metadata": {},
     "output_type": "display_data"
    }
   ],
   "source": [
    "import scipy.interpolate\n",
    "\n",
    "\n",
    "# Set up a regular grid of interpolation points\n",
    "xi, yi = np.linspace(lrs.min(), lrs.max(), 100), np.linspace(vcs.min(), vcs.max(), 100)\n",
    "xi, yi = np.meshgrid(xi, yi)\n",
    "\n",
    "# Interpolate\n",
    "rbf = scipy.interpolate.Rbf(lrs, vcs, losses, function='gaussian')\n",
    "zi = rbf(xi, yi)\n",
    "plt.imshow(zi, vmin=losses.min(), vmax=losses.max(), origin='lower',\n",
    "           extent=[lrs.min(), lrs.max(), vcs.min(), vcs.max()])\n",
    "plt.scatter(lrs, vcs, c=losses,s=15,zorder = 2)\n",
    "\n",
    "ax = plt.gca()\n",
    "ax.set_yscale('log')\n",
    "ax.set_xscale('log')\n",
    "plt.xlabel('LR')\n",
    "plt.ylabel('VC')\n",
    "plt.colorbar()\n",
    "plt.scatter(lrs, vcs, c='w',zorder=1)\n",
    "plt.show()"
   ]
  },
  {
   "cell_type": "markdown",
   "metadata": {},
   "source": [
    "Now plot time course of best params. "
   ]
  },
  {
   "cell_type": "code",
   "execution_count": 10,
   "metadata": {
    "collapsed": false
   },
   "outputs": [
    {
     "name": "stdout",
     "output_type": "stream",
     "text": [
      "Train on 10000 samples, validate on 1000 samples\n",
      "Epoch 1/10\n",
      "11s - loss: 0.7230 - acc: 0.7698 - val_loss: 0.2580 - val_acc: 0.9160\n",
      "Epoch 2/10\n",
      "11s - loss: 0.2912 - acc: 0.9157 - val_loss: 0.2253 - val_acc: 0.9200\n",
      "Epoch 3/10\n",
      "11s - loss: 0.1996 - acc: 0.9396 - val_loss: 0.1159 - val_acc: 0.9610\n",
      "Epoch 4/10\n",
      "11s - loss: 0.1541 - acc: 0.9521 - val_loss: 0.0956 - val_acc: 0.9690\n",
      "Epoch 5/10\n",
      "11s - loss: 0.1278 - acc: 0.9597 - val_loss: 0.0927 - val_acc: 0.9720\n",
      "Epoch 6/10\n",
      "11s - loss: 0.1028 - acc: 0.9665 - val_loss: 0.1005 - val_acc: 0.9610\n",
      "Epoch 7/10\n",
      "11s - loss: 0.0914 - acc: 0.9705 - val_loss: 0.0806 - val_acc: 0.9750\n",
      "Epoch 8/10\n",
      "11s - loss: 0.0831 - acc: 0.9738 - val_loss: 0.0663 - val_acc: 0.9750\n",
      "Epoch 9/10\n",
      "11s - loss: 0.0730 - acc: 0.9763 - val_loss: 0.0668 - val_acc: 0.9760\n",
      "Epoch 10/10\n",
      "11s - loss: 0.0585 - acc: 0.9803 - val_loss: 0.0697 - val_acc: 0.9760\n"
     ]
    },
    {
     "data": {
      "text/plain": [
       "<keras.callbacks.History at 0x7f76c81a1dd0>"
      ]
     },
     "execution_count": 10,
     "metadata": {},
     "output_type": "execute_result"
    }
   ],
   "source": [
    "\n",
    "\n",
    "\n",
    "opt = keras.optimizers.GraVa(lr=0.072485440769771592, beta_1=0.99, beta_2=0.99, \n",
    "                             var_care=0.76771431639785814, decay=0.0)\n",
    "gr_model = build_model(opt)\n",
    "\n",
    "batch_size = 32\n",
    "epochs = 10\n",
    "nb_train = 10000\n",
    "nb_test = 1000\n",
    "\n",
    "gr_hist = minibatch_History(Nevery = 50)\n",
    "\n",
    "gr_model.fit(x_train[:nb_train], y_train[:nb_train],\n",
    "          batch_size=batch_size,\n",
    "          epochs=epochs,\n",
    "          verbose=2,\n",
    "          \n",
    "          validation_data=(x_test[:nb_test], y_test[:nb_test]),\n",
    "          callbacks=[gr_hist])\n",
    "\n"
   ]
  },
  {
   "cell_type": "code",
   "execution_count": 12,
   "metadata": {
    "collapsed": false
   },
   "outputs": [
    {
     "data": {
      "text/plain": [
       "<matplotlib.text.Text at 0x7f76c7eb7b10>"
      ]
     },
     "execution_count": 12,
     "metadata": {},
     "output_type": "execute_result"
    },
    {
     "data": {
      "image/png": "[encoded data removed]",
      "text/plain": [
       "<matplotlib.figure.Figure at 0x7f76c7f19510>"
      ]
     },
     "metadata": {},
     "output_type": "display_data"
    }
   ],
   "source": [
    "plt.figure(figsize=(10,5))\n",
    "plt.subplot(121)\n",
    "simpleaxis(plt.gca())\n",
    "\n",
    "batch_no = np.arange(np.array(hist.history['loss']).shape[0])*128\n",
    "gr_batch_no = np.arange(np.array(gr_hist.history['loss']).shape[0])*32\n",
    "\n",
    "plt.plot(batch_no,hist.history['val_loss'],color=colors[0])\n",
    "plt.plot(gr_batch_no,gr_hist.history['val_loss'],color=colors[1])\n",
    "plt.legend(['adadelta','grava'],loc=0)\n",
    "plt.xlabel('Sample #',fontsize='large')\n",
    "plt.ylabel('Loss',fontsize='large')\n",
    "plt.title('validation')\n",
    "plt.ylim((0,2));\n",
    "plt.subplot(122)\n",
    "plt.plot(batch_no,hist.history['loss'],color=colors[0])\n",
    "plt.plot(gr_batch_no,gr_hist.history['loss'],color=colors[1])\n",
    "plt.title('train')\n",
    "plt.ylim((0,2));\n",
    "plt.legend(['adadelta','grava'],loc=0)\n",
    "plt.xlabel('Sample #',fontsize='large')\n",
    "plt.ylabel('Loss',fontsize='large')"
   ]
  },
  {
   "cell_type": "markdown",
   "metadata": {},
   "source": [
    "With whole data:"
   ]
  },
  {
   "cell_type": "code",
   "execution_count": 99,
   "metadata": {
    "collapsed": false
   },
   "outputs": [
    {
     "name": "stdout",
     "output_type": "stream",
     "text": [
      "[0.028708139271483968, 0.99170000000000003]\n",
      "Error percent : 0.830000\n"
     ]
    }
   ],
   "source": [
    "gr_model.fit(x_train, y_train,\n",
    "      batch_size=32,\n",
    "      epochs=10,\n",
    "      verbose=0,\n",
    "      validation_data=(x_test, y_test))\n",
    "score = gr_model.evaluate(x_test, y_test, verbose=0)\n",
    "print(score)\n",
    "print('Error percent : %f'% (100.*(1.-score[1])))\n"
   ]
  },
  {
   "cell_type": "markdown",
   "metadata": {},
   "source": [
    "Test other optimizers:"
   ]
  },
  {
   "cell_type": "code",
   "execution_count": 6,
   "metadata": {
    "collapsed": false
   },
   "outputs": [],
   "source": [
    "import pickle\n",
    "\n",
    "optimized_grava = pickle.load(open('grava_opt.p', 'rb'))"
   ]
  },
  {
   "cell_type": "code",
   "execution_count": 83,
   "metadata": {
    "collapsed": false,
    "scrolled": false
   },
   "outputs": [
    {
     "data": {
      "text/plain": [
       "({'lr': [0.007031656492048335],\n",
       "  'momentum': [1],\n",
       "  'pn': [1],\n",
       "  'sqrt': [1],\n",
       "  'var_care': [8.631371275478669]},\n",
       " 0.054246902810605388)"
      ]
     },
     "execution_count": 83,
     "metadata": {},
     "output_type": "execute_result"
    }
   ],
   "source": [
    "vals, losses = zip(*[[trial['misc']['vals'], \\\n",
    "                    trial['result']['loss']] for trial in optimized_grava[1]])\n",
    "i=0\n",
    "vals[np.argsort(losses)[i]], np.sort(losses)[i]"
   ]
  },
  {
   "cell_type": "code",
   "execution_count": 89,
   "metadata": {
    "collapsed": false
   },
   "outputs": [
    {
     "data": {
      "image/png": "[encoded data removed]",
      "text/plain": [
       "<matplotlib.figure.Figure at 0x7f622e6abc10>"
      ]
     },
     "metadata": {},
     "output_type": "display_data"
    }
   ],
   "source": [
    "lrs = [vals[np.argsort(losses)[i]]['lr'] for i in np.arange(len(losses))]\n",
    "vcs = [vals[np.argsort(losses)[i]]['var_care'] for i in np.arange(len(losses))]\n",
    "plt.scatter(lrs,vcs,c=np.sort(losses))\n",
    "plt.colorbar()\n",
    "ax = plt.gca()\n",
    "# ax.set_yscale('log')\n",
    "# ax.set_xscale('log')"
   ]
  },
  {
   "cell_type": "code",
   "execution_count": 101,
   "metadata": {
    "collapsed": false
   },
   "outputs": [
    {
     "data": {
      "text/plain": [
       "<keras.callbacks.History at 0x7f62023118d0>"
      ]
     },
     "execution_count": 101,
     "metadata": {},
     "output_type": "execute_result"
    }
   ],
   "source": [
    "opt = keras.optimizers.GraVa(lr=0.007031656492048335, beta=0.99, momentum =1, sqrt = 1, pn = 1, \n",
    "                             var_care=8.631371275478669)\n",
    "gr_model = build_model(opt)\n",
    "\n",
    "batch_size = 1\n",
    "epochs = 1\n",
    "nb_train = 10000\n",
    "nb_test = 1000\n",
    "\n",
    "gr_hist = minibatch_History(Nevery = 1000)\n",
    "\n",
    "gr_model.fit(x_train, y_train,\n",
    "          batch_size=batch_size,\n",
    "          epochs=epochs,\n",
    "          verbose=0,\n",
    "          \n",
    "          validation_data=(x_test[:nb_test], y_test[:nb_test]),\n",
    "          callbacks=[gr_hist])"
   ]
  },
  {
   "cell_type": "code",
   "execution_count": 119,
   "metadata": {
    "collapsed": false
   },
   "outputs": [
    {
     "data": {
      "text/plain": [
       "<matplotlib.text.Text at 0x7f61f8e24790>"
      ]
     },
     "execution_count": 119,
     "metadata": {},
     "output_type": "execute_result"
    },
    {
     "data": {
      "image/png": "[encoded data removed]",
      "text/plain": [
       "<matplotlib.figure.Figure at 0x7f61f8e9c850>"
      ]
     },
     "metadata": {},
     "output_type": "display_data"
    }
   ],
   "source": [
    "plt.figure(figsize=(10,5))\n",
    "plt.subplot(121)\n",
    "simpleaxis(plt.gca())\n",
    "\n",
    "batch_no = np.arange(np.array(hist.history['loss']).shape[0])*128\n",
    "gr_batch_no = np.arange(np.array(gr_hist.history['loss']).shape[0])\n",
    "\n",
    "plt.plot(batch_no,hist.history['val_loss'],color=colors[0])\n",
    "plt.plot(gr_batch_no,gr_hist.history['val_loss'],color=colors[1])\n",
    "plt.legend(['adadelta','grava'],loc=0)\n",
    "plt.xlabel('Sample #',fontsize='large')\n",
    "plt.ylabel('Loss',fontsize='large')\n",
    "plt.title('validation')\n",
    "plt.ylim((0,2));\n",
    "\n",
    "N = 128\n",
    "trrain = np.convolve(gr_hist.history['loss'], np.ones((N,))/N, mode='valid')\n",
    "\n",
    "plt.subplot(122)\n",
    "plt.plot(batch_no,hist.history['loss'],color=colors[0])\n",
    "plt.plot(gr_batch_no[:len(trrain)],trrain,color=colors[1])\n",
    "plt.title('train')\n",
    "plt.ylim((0,2));\n",
    "plt.legend(['adadelta','grava'],loc=0)\n",
    "plt.xlabel('Sample #',fontsize='large')\n",
    "plt.ylabel('Loss',fontsize='large')\n",
    "\n"
   ]
  },
  {
   "cell_type": "code",
   "execution_count": 117,
   "metadata": {
    "collapsed": false
   },
   "outputs": [
    {
     "name": "stdout",
     "output_type": "stream",
     "text": [
      "[0.032420897542651803, 0.98970000000000002]\n",
      "Error percent : 1.030000\n"
     ]
    }
   ],
   "source": [
    "\n",
    "gr_model.fit(x_train, y_train,\n",
    "      batch_size=1,\n",
    "      epochs=1,\n",
    "      verbose=0,\n",
    "      validation_data=(x_test, y_test))\n",
    "score = gr_model.evaluate(x_test, y_test, verbose=0)\n",
    "print(score)\n",
    "print('Error percent : %f'% (100.*(1.-score[1])))"
   ]
  },
  {
   "cell_type": "markdown",
   "metadata": {},
   "source": [
    "## Plot gradients\n",
    "#### As a function of inputs, and as a function of batch/epoch\n",
    "\n"
   ]
  },
  {
   "cell_type": "code",
   "execution_count": null,
   "metadata": {
    "collapsed": true
   },
   "outputs": [],
   "source": []
  },
  {
   "cell_type": "markdown",
   "metadata": {},
   "source": [
    "## Plot computational graphs\n",
    "\n",
    "Train a simple 2 layer linear net on a simple problem. Print the computation graph to error check.\n",
    "\n",
    "We'll be using TensorBoard, since it's awesome. This will print the log file for tensorboard; to see the graph and metrics you'll have to open the log in standalone tensorboard.\n",
    "\n",
    "Note that this requires us to be using tf as the backend."
   ]
  },
  {
   "cell_type": "code",
   "execution_count": 9,
   "metadata": {
    "collapsed": false
   },
   "outputs": [],
   "source": [
    "# function: z = exp(-x^2 -y^2)\n",
    "\n",
    "x = np.random.normal(size = (1000,2))\n",
    "z = np.exp(-x[:,1]**2 -x[:,0]**2)\n",
    "\n",
    "x_test = np.random.normal(size = (100,2))\n",
    "z_test = np.exp(-x_test[:,1]**2 -x_test[:,0]**2)\n"
   ]
  },
  {
   "cell_type": "code",
   "execution_count": 10,
   "metadata": {
    "collapsed": false
   },
   "outputs": [],
   "source": [
    "small_model = Sequential()\n",
    "\n",
    "small_model.add(Dense(2, activation='linear',input_shape=(2,)))\n",
    "small_model.add(Dense(1, activation='linear'))\n",
    "\n",
    "opt = keras.optimizers.SGD()\n",
    "small_model.compile(loss=keras.losses.mean_squared_error,\n",
    "              optimizer=opt)\n"
   ]
  },
  {
   "cell_type": "code",
   "execution_count": 11,
   "metadata": {
    "collapsed": false
   },
   "outputs": [
    {
     "ename": "RuntimeError",
     "evalue": "TensorBoard callback only works with the TensorFlow backend.",
     "output_type": "error",
     "traceback": [
      "\u001b[0;31m---------------------------------------------------------------------------\u001b[0m",
      "\u001b[0;31mRuntimeError\u001b[0m                              Traceback (most recent call last)",
      "\u001b[0;32m<ipython-input-11-52caf221e7c4>\u001b[0m in \u001b[0;36m<module>\u001b[0;34m()\u001b[0m\n\u001b[1;32m      1\u001b[0m \u001b[0;31m# for tensorboard\u001b[0m\u001b[0;34m\u001b[0m\u001b[0;34m\u001b[0m\u001b[0m\n\u001b[0;32m----> 2\u001b[0;31m \u001b[0mtbCallBack\u001b[0m \u001b[0;34m=\u001b[0m \u001b[0mkeras\u001b[0m\u001b[0;34m.\u001b[0m\u001b[0mcallbacks\u001b[0m\u001b[0;34m.\u001b[0m\u001b[0mTensorBoard\u001b[0m\u001b[0;34m(\u001b[0m\u001b[0mlog_dir\u001b[0m\u001b[0;34m=\u001b[0m\u001b[0;34m'./Graph'\u001b[0m\u001b[0;34m,\u001b[0m \u001b[0mhistogram_freq\u001b[0m\u001b[0;34m=\u001b[0m\u001b[0;36m0\u001b[0m\u001b[0;34m,\u001b[0m \u001b[0mwrite_graph\u001b[0m\u001b[0;34m=\u001b[0m\u001b[0mTrue\u001b[0m\u001b[0;34m,\u001b[0m \u001b[0mwrite_images\u001b[0m\u001b[0;34m=\u001b[0m\u001b[0mTrue\u001b[0m\u001b[0;34m)\u001b[0m\u001b[0;34m\u001b[0m\u001b[0m\n\u001b[0m\u001b[1;32m      3\u001b[0m \u001b[0;34m\u001b[0m\u001b[0m\n\u001b[1;32m      4\u001b[0m small_model.fit(x,z,\n\u001b[1;32m      5\u001b[0m           \u001b[0mbatch_size\u001b[0m\u001b[0;34m=\u001b[0m\u001b[0;36m10\u001b[0m\u001b[0;34m,\u001b[0m\u001b[0;34m\u001b[0m\u001b[0m\n",
      "\u001b[0;32m/home/abenjamin/repos/keras/keras/callbacks.pyc\u001b[0m in \u001b[0;36m__init__\u001b[0;34m(self, log_dir, histogram_freq, write_graph, write_images, embeddings_freq, embeddings_layer_names, embeddings_metadata)\u001b[0m\n\u001b[1;32m    612\u001b[0m         \u001b[0msuper\u001b[0m\u001b[0;34m(\u001b[0m\u001b[0mTensorBoard\u001b[0m\u001b[0;34m,\u001b[0m \u001b[0mself\u001b[0m\u001b[0;34m)\u001b[0m\u001b[0;34m.\u001b[0m\u001b[0m__init__\u001b[0m\u001b[0;34m(\u001b[0m\u001b[0;34m)\u001b[0m\u001b[0;34m\u001b[0m\u001b[0m\n\u001b[1;32m    613\u001b[0m         \u001b[0;32mif\u001b[0m \u001b[0mK\u001b[0m\u001b[0;34m.\u001b[0m\u001b[0mbackend\u001b[0m\u001b[0;34m(\u001b[0m\u001b[0;34m)\u001b[0m \u001b[0;34m!=\u001b[0m \u001b[0;34m'tensorflow'\u001b[0m\u001b[0;34m:\u001b[0m\u001b[0;34m\u001b[0m\u001b[0m\n\u001b[0;32m--> 614\u001b[0;31m             raise RuntimeError('TensorBoard callback only works '\n\u001b[0m\u001b[1;32m    615\u001b[0m                                'with the TensorFlow backend.')\n\u001b[1;32m    616\u001b[0m         \u001b[0mself\u001b[0m\u001b[0;34m.\u001b[0m\u001b[0mlog_dir\u001b[0m \u001b[0;34m=\u001b[0m \u001b[0mlog_dir\u001b[0m\u001b[0;34m\u001b[0m\u001b[0m\n",
      "\u001b[0;31mRuntimeError\u001b[0m: TensorBoard callback only works with the TensorFlow backend."
     ]
    }
   ],
   "source": [
    "# for tensorboard\n",
    "tbCallBack = keras.callbacks.TensorBoard(log_dir='./Graph', histogram_freq=0, write_graph=True, write_images=True)\n",
    "\n",
    "small_model.fit(x,z,\n",
    "          batch_size=10,\n",
    "          epochs=10,\n",
    "          verbose=0,\n",
    "          validation_data=(x_test, z_test),\n",
    "          callbacks=[tbCallBack])"
   ]
  },
  {
   "cell_type": "code",
   "execution_count": null,
   "metadata": {
    "collapsed": false
   },
   "outputs": [],
   "source": [
    "# x = np.array([[[1,2], [2,2]], [[3,2], [4,2]]])\n",
    "# y = np.array([[[5,2], [6,2]], [[7,2], [8,2]]])\n",
    "\n",
    "x = np.ones((30,2,3))\n",
    "y = x\n",
    "\n",
    "print(np.sum(np.multiply(x,y)))\n",
    "\n",
    "x = K.constant(x)\n",
    "y = K.constant(y)\n",
    "\n",
    "K.eval(K.sum(keras.backend.batch_dot(x,y,axes=(0,9)),axis=0))"
   ]
  },
  {
   "cell_type": "code",
   "execution_count": null,
   "metadata": {
    "collapsed": false
   },
   "outputs": [],
   "source": [
    "x = np.array([[1, 2], [3, 4]])\n",
    "y = np.array([[5, 6], [7, 8]])\n",
    "\n",
    "np.sum(np.multiply(x,y))"
   ]
  }
 ],
 "metadata": {
  "anaconda-cloud": {},
  "kernelspec": {
   "display_name": "Python 2",
   "language": "python",
   "name": "python2"
  }
 },
 "nbformat": 4,
 "nbformat_minor": 0
}
